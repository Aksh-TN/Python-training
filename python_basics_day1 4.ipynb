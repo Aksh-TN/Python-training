{
  "nbformat": 4,
  "nbformat_minor": 0,
  "metadata": {
    "colab": {
      "provenance": [],
      "include_colab_link": true
    },
    "kernelspec": {
      "name": "python3",
      "display_name": "Python 3"
    },
    "language_info": {
      "name": "python"
    }
  },
  "cells": [
    {
      "cell_type": "markdown",
      "metadata": {
        "id": "view-in-github",
        "colab_type": "text"
      },
      "source": [
        "<a href=\"https://colab.research.google.com/github/Aksh-TN/Python-training/blob/main/python_basics_day1%204.ipynb\" target=\"_parent\"><img src=\"https://colab.research.google.com/assets/colab-badge.svg\" alt=\"Open In Colab\"/></a>"
      ]
    },
    {
      "cell_type": "code",
      "execution_count": null,
      "metadata": {
        "colab": {
          "base_uri": "https://localhost:8080/",
          "height": 141
        },
        "id": "fooBKl8FmcO4",
        "outputId": "2c2d67e8-e943-4afd-d46b-1b04919f4960"
      },
      "outputs": [
        {
          "output_type": "error",
          "ename": "NameError",
          "evalue": "name 'prit' is not defined",
          "traceback": [
            "\u001b[0;31m---------------------------------------------------------------------------\u001b[0m",
            "\u001b[0;31mNameError\u001b[0m                                 Traceback (most recent call last)",
            "\u001b[0;32m<ipython-input-3-db6dda56cc4d>\u001b[0m in \u001b[0;36m<cell line: 0>\u001b[0;34m()\u001b[0m\n\u001b[0;32m----> 1\u001b[0;31m \u001b[0mprit\u001b[0m\u001b[0;34m(\u001b[0m\u001b[0;34m\"welcome to Python world\"\u001b[0m\u001b[0;34m)\u001b[0m\u001b[0;34m\u001b[0m\u001b[0;34m\u001b[0m\u001b[0m\n\u001b[0m",
            "\u001b[0;31mNameError\u001b[0m: name 'prit' is not defined"
          ]
        }
      ],
      "source": [
        "prit(\"welcome to Python world\")"
      ]
    },
    {
      "cell_type": "code",
      "source": [
        "print(\"Akshaya\")"
      ],
      "metadata": {
        "colab": {
          "base_uri": "https://localhost:8080/"
        },
        "id": "mrB8qtB8y5XE",
        "outputId": "59de7dce-e61a-4f64-a72b-c2207284e902"
      },
      "execution_count": null,
      "outputs": [
        {
          "output_type": "stream",
          "name": "stdout",
          "text": [
            "Akshaya\n"
          ]
        }
      ]
    },
    {
      "cell_type": "code",
      "source": [
        "print(\"Hello\")"
      ],
      "metadata": {
        "colab": {
          "base_uri": "https://localhost:8080/"
        },
        "id": "aFfwUX3IzLyp",
        "outputId": "c4e539b5-4d26-45fb-c12e-69d78e7df0db"
      },
      "execution_count": null,
      "outputs": [
        {
          "output_type": "stream",
          "name": "stdout",
          "text": [
            "Hello\n"
          ]
        }
      ]
    },
    {
      "cell_type": "code",
      "source": [
        "2+3"
      ],
      "metadata": {
        "colab": {
          "base_uri": "https://localhost:8080/"
        },
        "id": "456iibnZml4b",
        "outputId": "98005d39-dad6-427f-90f5-a6fad527d64b"
      },
      "execution_count": null,
      "outputs": [
        {
          "output_type": "execute_result",
          "data": {
            "text/plain": [
              "5"
            ]
          },
          "metadata": {},
          "execution_count": 2
        }
      ]
    },
    {
      "cell_type": "code",
      "source": [
        "my_string = \"Python is fun!\"\n",
        "print(my_string[-1:-20:-1])"
      ],
      "metadata": {
        "id": "pDCoRf-uf6Mo",
        "outputId": "9f830f2b-bca0-4657-c80d-68c6a49ec98d",
        "colab": {
          "base_uri": "https://localhost:8080/"
        }
      },
      "execution_count": null,
      "outputs": [
        {
          "output_type": "stream",
          "name": "stdout",
          "text": [
            "!nuf si nohtyP\n"
          ]
        }
      ]
    },
    {
      "cell_type": "code",
      "source": [
        "a = 'Python'\n",
        "\n",
        "if a == 'Python':\n",
        "    print('Yes')\n",
        "else:\n",
        "    print('No')"
      ],
      "metadata": {
        "id": "ujwCjNmlmQVh",
        "outputId": "49a864c1-ada1-4908-bb09-6925c0bbfd27",
        "colab": {
          "base_uri": "https://localhost:8080/"
        }
      },
      "execution_count": null,
      "outputs": [
        {
          "output_type": "stream",
          "name": "stdout",
          "text": [
            "Yes\n"
          ]
        }
      ]
    },
    {
      "cell_type": "code",
      "source": [
        "s = \"Python is fun!\"\n",
        "print(s)\n",
        "print(s[::])\n",
        "print(s[1:8:2])\n",
        "print(s[-1:-8:-2])\n",
        "print(s[-1:-20:-1])"
      ],
      "metadata": {
        "colab": {
          "base_uri": "https://localhost:8080/"
        },
        "id": "KoPtMXAgo1uD",
        "outputId": "aa62406c-33b3-430e-ce56-b3c861a15354"
      },
      "execution_count": 22,
      "outputs": [
        {
          "output_type": "stream",
          "name": "stdout",
          "text": [
            "Python is fun!\n",
            "Python is fun!\n",
            "yhni\n",
            "!u i\n",
            "!nuf si nohtyP\n"
          ]
        }
      ]
    },
    {
      "cell_type": "code",
      "source": [
        "#input stmt\n",
        "\n",
        "name =input (\"Enter your name \")\n",
        "print('Your name is ',name)"
      ],
      "metadata": {
        "colab": {
          "base_uri": "https://localhost:8080/"
        },
        "id": "cdtbBoxYpPib",
        "outputId": "54e15942-4c82-4a86-af12-0018010e08a0"
      },
      "execution_count": 19,
      "outputs": [
        {
          "output_type": "stream",
          "name": "stdout",
          "text": [
            "Enter your nameAkshaya\n",
            "Your name is  Akshaya\n"
          ]
        }
      ]
    },
    {
      "cell_type": "code",
      "source": [
        "no1 = input('Enter first num ')   # input will always return a string\n",
        "no2 = input('Enter second num ')\n",
        "print('Concatenate ',no1+no2)   # addition os string will be concatenate\n",
        "print('Sum is ',int(no1)+int(no2))  # typecast using int"
      ],
      "metadata": {
        "colab": {
          "base_uri": "https://localhost:8080/"
        },
        "id": "7h2aESMJpwCx",
        "outputId": "ed15c8f4-724f-4cb8-d2de-a6ea5c8a5dc3"
      },
      "execution_count": 25,
      "outputs": [
        {
          "output_type": "stream",
          "name": "stdout",
          "text": [
            "Enter first num 54\n",
            "Enter second num 45\n",
            "Concatenate  5445\n",
            "Sum is  99\n"
          ]
        }
      ]
    },
    {
      "cell_type": "code",
      "source": [
        "no1 = int(input('Enter first num '))   # input will always return a string\n",
        "no2 = int(input('Enter second num '))\n",
        "print(\"Sum is \",no1+no2)"
      ],
      "metadata": {
        "colab": {
          "base_uri": "https://localhost:8080/"
        },
        "id": "Dj2QBwWiqqo-",
        "outputId": "d24c4e21-ffea-4d60-dfc4-49ccaff3803c"
      },
      "execution_count": 26,
      "outputs": [
        {
          "output_type": "stream",
          "name": "stdout",
          "text": [
            "Enter first num 45\n",
            "Enter second num 68\n",
            "Sum is  113\n"
          ]
        }
      ]
    },
    {
      "cell_type": "code",
      "source": [
        "no1 = float(input('Enter first num '))   # input will always return a string\n",
        "no2 = float(input('Enter second num '))\n",
        "print(\"Sum is \",no1+no2)"
      ],
      "metadata": {
        "colab": {
          "base_uri": "https://localhost:8080/"
        },
        "id": "16KeveFnq4A1",
        "outputId": "f1f6a686-329e-4f9a-95de-845946d186bf"
      },
      "execution_count": 27,
      "outputs": [
        {
          "output_type": "stream",
          "name": "stdout",
          "text": [
            "Enter first num 45.678\n",
            "Enter second num 42.898\n",
            "Sum is  88.576\n"
          ]
        }
      ]
    },
    {
      "cell_type": "code",
      "source": [
        "no1 = int(input('Enter first num '))   # input will always return a string\n",
        "no2 = int(input('Enter second num '))\n",
        "if no1>no2:\n",
        "  print('No1 is greater')\n",
        "else:\n",
        "  print('No2 is greater')\n"
      ],
      "metadata": {
        "colab": {
          "base_uri": "https://localhost:8080/"
        },
        "id": "IUzsa2mIrMEJ",
        "outputId": "40a2dd86-180c-43b2-fb80-299e26b2b12f"
      },
      "execution_count": 29,
      "outputs": [
        {
          "output_type": "stream",
          "name": "stdout",
          "text": [
            "Enter first num 45\n",
            "Enter second num 68\n",
            "No2 is greater\n"
          ]
        }
      ]
    },
    {
      "cell_type": "code",
      "source": [
        "age = int(input(\"Enter your age\"))\n",
        "\n",
        "if age >= 18:\n",
        "  print(\"You are eligible to vote\")\n",
        "else:\n",
        "  print(\"You are not eligible to vote\")\n",
        "\n",
        "print(\"Thank you\")"
      ],
      "metadata": {
        "colab": {
          "base_uri": "https://localhost:8080/"
        },
        "id": "oW1o5bvPsXti",
        "outputId": "0a1cbc32-7524-45ba-fd36-39d94a7af016"
      },
      "execution_count": 30,
      "outputs": [
        {
          "output_type": "stream",
          "name": "stdout",
          "text": [
            "Enter your age19\n",
            "You are eligible to vote\n",
            "Thank you\n"
          ]
        }
      ]
    },
    {
      "cell_type": "code",
      "source": [
        "  mark = int(input(\"Enter the marks\"))\n",
        "\n",
        "  if mark >= 35 :\n",
        "    print(\"You have passed\")\n",
        "  else:\n",
        "    print(\"You have failed\")\n",
        "\n",
        "  print(\"Thank you\")"
      ],
      "metadata": {
        "colab": {
          "base_uri": "https://localhost:8080/"
        },
        "id": "LOFo3CB9tEjM",
        "outputId": "73e3eecf-b349-4a3e-a1be-879a70bc9e40"
      },
      "execution_count": 32,
      "outputs": [
        {
          "output_type": "stream",
          "name": "stdout",
          "text": [
            "Enter the marks13\n",
            "You have failed\n",
            "Thank you\n"
          ]
        }
      ]
    },
    {
      "cell_type": "code",
      "source": [
        "num = int(input(\"Enter a number\"))\n",
        "\n",
        "if num%2 == 0 :\n",
        "  print('Number is even')\n",
        "else:\n",
        "  print('Number is odd')\n"
      ],
      "metadata": {
        "colab": {
          "base_uri": "https://localhost:8080/"
        },
        "id": "CUYU7x9xtkJR",
        "outputId": "9c05bdd4-be81-4386-da5b-04d1c88504bf"
      },
      "execution_count": 33,
      "outputs": [
        {
          "output_type": "stream",
          "name": "stdout",
          "text": [
            "Enter a number10\n",
            "Number is even\n"
          ]
        }
      ]
    },
    {
      "cell_type": "code",
      "source": [
        "# elif\n",
        "\n",
        "score = int(input('Enter your score '))\n",
        "if score >= 90 :\n",
        "  print('A grade')\n",
        "elif score >= 80 :\n",
        "  print('B grade')\n",
        "elif score >= 70 :\n",
        "  print('C grade')\n",
        "else :\n",
        "  print('No grade')"
      ],
      "metadata": {
        "colab": {
          "base_uri": "https://localhost:8080/"
        },
        "id": "OdwHFDTEtsCH",
        "outputId": "122c1308-0a2c-4992-c2e7-f6fe8527e580"
      },
      "execution_count": 35,
      "outputs": [
        {
          "output_type": "stream",
          "name": "stdout",
          "text": [
            "Enter your score12\n",
            "No grade\n"
          ]
        }
      ]
    },
    {
      "cell_type": "code",
      "source": [
        "# nested if\n",
        "\n",
        "num = int(input(\"Enter a number\"))\n",
        "\n",
        "if num >= 0 :\n",
        "  print('Number is positive')\n",
        "  if num%2 == 0 :\n",
        "    print('Number is even')\n",
        "  else:\n",
        "    print('Number is odd')\n",
        "else:\n",
        "  print('Number is negative')\n"
      ],
      "metadata": {
        "colab": {
          "base_uri": "https://localhost:8080/"
        },
        "id": "UrPa3cs70Ox_",
        "outputId": "26d7fd66-6fa3-4a01-fb62-41b3e5a4d102"
      },
      "execution_count": 39,
      "outputs": [
        {
          "output_type": "stream",
          "name": "stdout",
          "text": [
            "Enter a number0\n",
            "Number is positive\n",
            "Number is even\n"
          ]
        }
      ]
    },
    {
      "cell_type": "code",
      "source": [
        "# while loop\n",
        "\n",
        "i = 5\n",
        "\n",
        "while i<=50:\n",
        "  print (i)\n",
        "  i+=5    # i=i+5 can be written like this"
      ],
      "metadata": {
        "colab": {
          "base_uri": "https://localhost:8080/"
        },
        "id": "7LdeTw4G1S_q",
        "outputId": "2a87c4f3-4bb3-4f4b-9526-120f1e70df9d"
      },
      "execution_count": 43,
      "outputs": [
        {
          "output_type": "stream",
          "name": "stdout",
          "text": [
            "5\n",
            "10\n",
            "15\n",
            "20\n",
            "25\n",
            "30\n",
            "35\n",
            "40\n",
            "45\n",
            "50\n"
          ]
        }
      ]
    },
    {
      "cell_type": "code",
      "source": [
        "# multiplication table\n",
        "\n",
        "num=int(input('Enter the table no'))\n",
        "\n",
        "i = 1\n",
        "\n",
        "while i <= 10:\n",
        "  print(i*num)\n",
        "  i=i+1"
      ],
      "metadata": {
        "colab": {
          "base_uri": "https://localhost:8080/"
        },
        "id": "pESrhfN23OSz",
        "outputId": "8ac0e46e-c110-4676-fef5-a58f7abf43f9"
      },
      "execution_count": 44,
      "outputs": [
        {
          "output_type": "stream",
          "name": "stdout",
          "text": [
            "Enter the table no7\n",
            "7\n",
            "14\n",
            "21\n",
            "28\n",
            "35\n",
            "42\n",
            "49\n",
            "56\n",
            "63\n",
            "70\n"
          ]
        }
      ]
    },
    {
      "cell_type": "code",
      "source": [
        "#odd numbers 1 to 100\n",
        "\n",
        "i= 1\n",
        "while i <= 100:\n",
        "  print(i)\n",
        "  i+=2\n"
      ],
      "metadata": {
        "colab": {
          "base_uri": "https://localhost:8080/"
        },
        "id": "L1zCK4QA3t3q",
        "outputId": "411fa44b-b977-47ff-a29e-5224157e805f"
      },
      "execution_count": 47,
      "outputs": [
        {
          "output_type": "stream",
          "name": "stdout",
          "text": [
            "1\n",
            "3\n",
            "5\n",
            "7\n",
            "9\n",
            "11\n",
            "13\n",
            "15\n",
            "17\n",
            "19\n",
            "21\n",
            "23\n",
            "25\n",
            "27\n",
            "29\n",
            "31\n",
            "33\n",
            "35\n",
            "37\n",
            "39\n",
            "41\n",
            "43\n",
            "45\n",
            "47\n",
            "49\n",
            "51\n",
            "53\n",
            "55\n",
            "57\n",
            "59\n",
            "61\n",
            "63\n",
            "65\n",
            "67\n",
            "69\n",
            "71\n",
            "73\n",
            "75\n",
            "77\n",
            "79\n",
            "81\n",
            "83\n",
            "85\n",
            "87\n",
            "89\n",
            "91\n",
            "93\n",
            "95\n",
            "97\n",
            "99\n"
          ]
        }
      ]
    },
    {
      "cell_type": "code",
      "source": [
        "#for loop\n",
        "\n",
        "for i in \"Nttdata\" :\n",
        "  print(i)\n",
        "\n",
        "for i in (10,20,30) :\n",
        "  print(i)\n",
        "\n",
        "for i in (10,20,30) :         # i will iterate for 3 times\n",
        "  print(\"Nttdata\")\n",
        "\n"
      ],
      "metadata": {
        "colab": {
          "base_uri": "https://localhost:8080/"
        },
        "id": "bwAALF8i490X",
        "outputId": "53d1f4e5-f83d-484e-e892-d51e7d56bd9c"
      },
      "execution_count": 49,
      "outputs": [
        {
          "output_type": "stream",
          "name": "stdout",
          "text": [
            "N\n",
            "t\n",
            "t\n",
            "d\n",
            "a\n",
            "t\n",
            "a\n",
            "10\n",
            "20\n",
            "30\n",
            "Nttdata\n",
            "Nttdata\n",
            "Nttdata\n"
          ]
        }
      ]
    },
    {
      "cell_type": "code",
      "source": [
        "#for loop to count the number of vowels\n",
        "\n",
        "s = input(\"Enter a string \")\n",
        "\n",
        "v = ['a','e','i','o','u']\n",
        "\n",
        "ctr = 0\n",
        "\n",
        "for i in s:       # for each iteration one char from s will be assigned to i\n",
        "  if i in v:      # now i will be checked against the list of vowels in v\n",
        "    ctr+=1\n",
        "\n",
        "print(ctr)\n"
      ],
      "metadata": {
        "colab": {
          "base_uri": "https://localhost:8080/"
        },
        "id": "kUrcQkvL6dcZ",
        "outputId": "5b74bd36-3a41-4710-a19e-d4f770729e59"
      },
      "execution_count": 54,
      "outputs": [
        {
          "output_type": "stream",
          "name": "stdout",
          "text": [
            "Enter a string Banglore\n",
            "3\n"
          ]
        }
      ]
    },
    {
      "cell_type": "markdown",
      "source": [
        "How to reverse a string using slicing\n",
        "Check a palindrome using slicing"
      ],
      "metadata": {
        "id": "_OhowxxM8aW6"
      }
    },
    {
      "cell_type": "code",
      "source": [
        "s = input('Enter a string')\n",
        "\n",
        "print(s[-1::-1])"
      ],
      "metadata": {
        "colab": {
          "base_uri": "https://localhost:8080/"
        },
        "id": "-Kd8yg9A8Y85",
        "outputId": "4c89458a-70fd-44bd-da93-e08cf491fbef"
      },
      "execution_count": 55,
      "outputs": [
        {
          "output_type": "stream",
          "name": "stdout",
          "text": [
            "Enter a stringHello\n",
            "olleH\n"
          ]
        }
      ]
    },
    {
      "cell_type": "code",
      "source": [
        "str = input('Enter a string ')\n",
        "\n",
        "s = str.lower()\n",
        "\n",
        "r = s[-1::-1]\n",
        "\n",
        "if s == r:\n",
        "  print('The string is a panlindrome')\n",
        "else:\n",
        "  print('The string is not a panlindrome')\n"
      ],
      "metadata": {
        "colab": {
          "base_uri": "https://localhost:8080/"
        },
        "id": "bmEtRR8d85De",
        "outputId": "d916cf90-ceb9-437e-91e5-b17d29517571"
      },
      "execution_count": 61,
      "outputs": [
        {
          "output_type": "stream",
          "name": "stdout",
          "text": [
            "Enter a stringMalayalam\n",
            "The string is a panlindrome\n"
          ]
        }
      ]
    }
  ]
}