{
  "nbformat": 4,
  "nbformat_minor": 0,
  "metadata": {
    "colab": {
      "provenance": [],
      "include_colab_link": true
    },
    "kernelspec": {
      "name": "python3",
      "display_name": "Python 3"
    },
    "language_info": {
      "name": "python"
    }
  },
  "cells": [
    {
      "cell_type": "markdown",
      "metadata": {
        "id": "view-in-github",
        "colab_type": "text"
      },
      "source": [
        "<a href=\"https://colab.research.google.com/github/Aksh-TN/Python-training/blob/main/python_basics_day1%204.ipynb\" target=\"_parent\"><img src=\"https://colab.research.google.com/assets/colab-badge.svg\" alt=\"Open In Colab\"/></a>"
      ]
    },
    {
      "cell_type": "code",
      "execution_count": null,
      "metadata": {
        "colab": {
          "base_uri": "https://localhost:8080/",
          "height": 141
        },
        "id": "fooBKl8FmcO4",
        "outputId": "2c2d67e8-e943-4afd-d46b-1b04919f4960"
      },
      "outputs": [
        {
          "output_type": "error",
          "ename": "NameError",
          "evalue": "name 'prit' is not defined",
          "traceback": [
            "\u001b[0;31m---------------------------------------------------------------------------\u001b[0m",
            "\u001b[0;31mNameError\u001b[0m                                 Traceback (most recent call last)",
            "\u001b[0;32m<ipython-input-3-db6dda56cc4d>\u001b[0m in \u001b[0;36m<cell line: 0>\u001b[0;34m()\u001b[0m\n\u001b[0;32m----> 1\u001b[0;31m \u001b[0mprit\u001b[0m\u001b[0;34m(\u001b[0m\u001b[0;34m\"welcome to Python world\"\u001b[0m\u001b[0;34m)\u001b[0m\u001b[0;34m\u001b[0m\u001b[0;34m\u001b[0m\u001b[0m\n\u001b[0m",
            "\u001b[0;31mNameError\u001b[0m: name 'prit' is not defined"
          ]
        }
      ],
      "source": [
        "prit(\"welcome to Python world\")"
      ]
    },
    {
      "cell_type": "code",
      "source": [
        "print(\"Akshaya\")"
      ],
      "metadata": {
        "colab": {
          "base_uri": "https://localhost:8080/"
        },
        "id": "mrB8qtB8y5XE",
        "outputId": "59de7dce-e61a-4f64-a72b-c2207284e902"
      },
      "execution_count": null,
      "outputs": [
        {
          "output_type": "stream",
          "name": "stdout",
          "text": [
            "Akshaya\n"
          ]
        }
      ]
    },
    {
      "cell_type": "code",
      "source": [
        "print(\"Hello\")"
      ],
      "metadata": {
        "colab": {
          "base_uri": "https://localhost:8080/"
        },
        "id": "aFfwUX3IzLyp",
        "outputId": "c4e539b5-4d26-45fb-c12e-69d78e7df0db"
      },
      "execution_count": null,
      "outputs": [
        {
          "output_type": "stream",
          "name": "stdout",
          "text": [
            "Hello\n"
          ]
        }
      ]
    },
    {
      "cell_type": "code",
      "source": [
        "2+3"
      ],
      "metadata": {
        "colab": {
          "base_uri": "https://localhost:8080/"
        },
        "id": "456iibnZml4b",
        "outputId": "98005d39-dad6-427f-90f5-a6fad527d64b"
      },
      "execution_count": null,
      "outputs": [
        {
          "output_type": "execute_result",
          "data": {
            "text/plain": [
              "5"
            ]
          },
          "metadata": {},
          "execution_count": 2
        }
      ]
    },
    {
      "cell_type": "code",
      "source": [
        "my_string = \"Python is fun!\"\n",
        "print(my_string[-1:-20:-1])"
      ],
      "metadata": {
        "id": "pDCoRf-uf6Mo",
        "outputId": "9f830f2b-bca0-4657-c80d-68c6a49ec98d",
        "colab": {
          "base_uri": "https://localhost:8080/"
        }
      },
      "execution_count": null,
      "outputs": [
        {
          "output_type": "stream",
          "name": "stdout",
          "text": [
            "!nuf si nohtyP\n"
          ]
        }
      ]
    },
    {
      "cell_type": "code",
      "source": [
        "a = 'Python'\n",
        "\n",
        "if a == 'Python':\n",
        "    print('Yes')\n",
        "else:\n",
        "    print('No')"
      ],
      "metadata": {
        "id": "ujwCjNmlmQVh",
        "outputId": "49a864c1-ada1-4908-bb09-6925c0bbfd27",
        "colab": {
          "base_uri": "https://localhost:8080/"
        }
      },
      "execution_count": null,
      "outputs": [
        {
          "output_type": "stream",
          "name": "stdout",
          "text": [
            "Yes\n"
          ]
        }
      ]
    },
    {
      "cell_type": "code",
      "source": [
        "s = \"Python is fun!\"\n",
        "print(s)\n",
        "print(s[::])\n",
        "print(s[1:8:2])\n",
        "print(s[-1:-8:-2])\n",
        "print(s[-1:-20:-1])"
      ],
      "metadata": {
        "colab": {
          "base_uri": "https://localhost:8080/"
        },
        "id": "KoPtMXAgo1uD",
        "outputId": "aa62406c-33b3-430e-ce56-b3c861a15354"
      },
      "execution_count": null,
      "outputs": [
        {
          "output_type": "stream",
          "name": "stdout",
          "text": [
            "Python is fun!\n",
            "Python is fun!\n",
            "yhni\n",
            "!u i\n",
            "!nuf si nohtyP\n"
          ]
        }
      ]
    },
    {
      "cell_type": "code",
      "source": [
        "#input stmt\n",
        "\n",
        "name =input (\"Enter your name \")\n",
        "print('Your name is ',name)"
      ],
      "metadata": {
        "colab": {
          "base_uri": "https://localhost:8080/"
        },
        "id": "cdtbBoxYpPib",
        "outputId": "54e15942-4c82-4a86-af12-0018010e08a0"
      },
      "execution_count": null,
      "outputs": [
        {
          "output_type": "stream",
          "name": "stdout",
          "text": [
            "Enter your nameAkshaya\n",
            "Your name is  Akshaya\n"
          ]
        }
      ]
    },
    {
      "cell_type": "code",
      "source": [
        "no1 = input('Enter first num ')   # input will always return a string\n",
        "no2 = input('Enter second num ')\n",
        "print('Concatenate ',no1+no2)   # addition os string will be concatenate\n",
        "print('Sum is ',int(no1)+int(no2))  # typecast using int"
      ],
      "metadata": {
        "colab": {
          "base_uri": "https://localhost:8080/"
        },
        "id": "7h2aESMJpwCx",
        "outputId": "ed15c8f4-724f-4cb8-d2de-a6ea5c8a5dc3"
      },
      "execution_count": null,
      "outputs": [
        {
          "output_type": "stream",
          "name": "stdout",
          "text": [
            "Enter first num 54\n",
            "Enter second num 45\n",
            "Concatenate  5445\n",
            "Sum is  99\n"
          ]
        }
      ]
    },
    {
      "cell_type": "code",
      "source": [
        "no1 = int(input('Enter first num '))   # input will always return a string\n",
        "no2 = int(input('Enter second num '))\n",
        "print(\"Sum is \",no1+no2)"
      ],
      "metadata": {
        "colab": {
          "base_uri": "https://localhost:8080/"
        },
        "id": "Dj2QBwWiqqo-",
        "outputId": "d24c4e21-ffea-4d60-dfc4-49ccaff3803c"
      },
      "execution_count": null,
      "outputs": [
        {
          "output_type": "stream",
          "name": "stdout",
          "text": [
            "Enter first num 45\n",
            "Enter second num 68\n",
            "Sum is  113\n"
          ]
        }
      ]
    },
    {
      "cell_type": "code",
      "source": [
        "no1 = float(input('Enter first num '))   # input will always return a string\n",
        "no2 = float(input('Enter second num '))\n",
        "print(\"Sum is \",no1+no2)"
      ],
      "metadata": {
        "colab": {
          "base_uri": "https://localhost:8080/"
        },
        "id": "16KeveFnq4A1",
        "outputId": "f1f6a686-329e-4f9a-95de-845946d186bf"
      },
      "execution_count": null,
      "outputs": [
        {
          "output_type": "stream",
          "name": "stdout",
          "text": [
            "Enter first num 45.678\n",
            "Enter second num 42.898\n",
            "Sum is  88.576\n"
          ]
        }
      ]
    },
    {
      "cell_type": "code",
      "source": [
        "no1 = int(input('Enter first num '))   # input will always return a string\n",
        "no2 = int(input('Enter second num '))\n",
        "if no1>no2:\n",
        "  print('No1 is greater')\n",
        "else:\n",
        "  print('No2 is greater')\n"
      ],
      "metadata": {
        "colab": {
          "base_uri": "https://localhost:8080/"
        },
        "id": "IUzsa2mIrMEJ",
        "outputId": "40a2dd86-180c-43b2-fb80-299e26b2b12f"
      },
      "execution_count": null,
      "outputs": [
        {
          "output_type": "stream",
          "name": "stdout",
          "text": [
            "Enter first num 45\n",
            "Enter second num 68\n",
            "No2 is greater\n"
          ]
        }
      ]
    },
    {
      "cell_type": "code",
      "source": [
        "age = int(input(\"Enter your age\"))\n",
        "\n",
        "if age >= 18:\n",
        "  print(\"You are eligible to vote\")\n",
        "else:\n",
        "  print(\"You are not eligible to vote\")\n",
        "\n",
        "print(\"Thank you\")"
      ],
      "metadata": {
        "colab": {
          "base_uri": "https://localhost:8080/"
        },
        "id": "oW1o5bvPsXti",
        "outputId": "0a1cbc32-7524-45ba-fd36-39d94a7af016"
      },
      "execution_count": null,
      "outputs": [
        {
          "output_type": "stream",
          "name": "stdout",
          "text": [
            "Enter your age19\n",
            "You are eligible to vote\n",
            "Thank you\n"
          ]
        }
      ]
    },
    {
      "cell_type": "code",
      "source": [
        "  mark = int(input(\"Enter the marks\"))\n",
        "\n",
        "  if mark >= 35 :\n",
        "    print(\"You have passed\")\n",
        "  else:\n",
        "    print(\"You have failed\")\n",
        "\n",
        "  print(\"Thank you\")"
      ],
      "metadata": {
        "colab": {
          "base_uri": "https://localhost:8080/"
        },
        "id": "LOFo3CB9tEjM",
        "outputId": "73e3eecf-b349-4a3e-a1be-879a70bc9e40"
      },
      "execution_count": null,
      "outputs": [
        {
          "output_type": "stream",
          "name": "stdout",
          "text": [
            "Enter the marks13\n",
            "You have failed\n",
            "Thank you\n"
          ]
        }
      ]
    },
    {
      "cell_type": "code",
      "source": [
        "num = int(input(\"Enter a number\"))\n",
        "\n",
        "if num%2 == 0 :\n",
        "  print('Number is even')\n",
        "else:\n",
        "  print('Number is odd')\n"
      ],
      "metadata": {
        "colab": {
          "base_uri": "https://localhost:8080/"
        },
        "id": "CUYU7x9xtkJR",
        "outputId": "9c05bdd4-be81-4386-da5b-04d1c88504bf"
      },
      "execution_count": null,
      "outputs": [
        {
          "output_type": "stream",
          "name": "stdout",
          "text": [
            "Enter a number10\n",
            "Number is even\n"
          ]
        }
      ]
    },
    {
      "cell_type": "code",
      "source": [
        "# elif\n",
        "\n",
        "score = int(input('Enter your score '))\n",
        "if score >= 90 :\n",
        "  print('A grade')\n",
        "elif score >= 80 :\n",
        "  print('B grade')\n",
        "elif score >= 70 :\n",
        "  print('C grade')\n",
        "else :\n",
        "  print('No grade')"
      ],
      "metadata": {
        "colab": {
          "base_uri": "https://localhost:8080/"
        },
        "id": "OdwHFDTEtsCH",
        "outputId": "122c1308-0a2c-4992-c2e7-f6fe8527e580"
      },
      "execution_count": null,
      "outputs": [
        {
          "output_type": "stream",
          "name": "stdout",
          "text": [
            "Enter your score12\n",
            "No grade\n"
          ]
        }
      ]
    },
    {
      "cell_type": "code",
      "source": [
        "# nested if\n",
        "\n",
        "num = int(input(\"Enter a number\"))\n",
        "\n",
        "if num >= 0 :\n",
        "  print('Number is positive')\n",
        "  if num%2 == 0 :\n",
        "    print('Number is even')\n",
        "  else:\n",
        "    print('Number is odd')\n",
        "else:\n",
        "  print('Number is negative')\n"
      ],
      "metadata": {
        "colab": {
          "base_uri": "https://localhost:8080/"
        },
        "id": "UrPa3cs70Ox_",
        "outputId": "26d7fd66-6fa3-4a01-fb62-41b3e5a4d102"
      },
      "execution_count": null,
      "outputs": [
        {
          "output_type": "stream",
          "name": "stdout",
          "text": [
            "Enter a number0\n",
            "Number is positive\n",
            "Number is even\n"
          ]
        }
      ]
    },
    {
      "cell_type": "code",
      "source": [
        "# while loop\n",
        "\n",
        "i = 5\n",
        "\n",
        "while i<=50:\n",
        "  print (i)\n",
        "  i+=5    # i=i+5 can be written like this"
      ],
      "metadata": {
        "colab": {
          "base_uri": "https://localhost:8080/"
        },
        "id": "7LdeTw4G1S_q",
        "outputId": "2a87c4f3-4bb3-4f4b-9526-120f1e70df9d"
      },
      "execution_count": null,
      "outputs": [
        {
          "output_type": "stream",
          "name": "stdout",
          "text": [
            "5\n",
            "10\n",
            "15\n",
            "20\n",
            "25\n",
            "30\n",
            "35\n",
            "40\n",
            "45\n",
            "50\n"
          ]
        }
      ]
    },
    {
      "cell_type": "code",
      "source": [
        "# multiplication table\n",
        "\n",
        "num=int(input('Enter the table no'))\n",
        "\n",
        "i = 1\n",
        "\n",
        "while i <= 10:\n",
        "  print(i*num)\n",
        "  i=i+1"
      ],
      "metadata": {
        "colab": {
          "base_uri": "https://localhost:8080/"
        },
        "id": "pESrhfN23OSz",
        "outputId": "8ac0e46e-c110-4676-fef5-a58f7abf43f9"
      },
      "execution_count": null,
      "outputs": [
        {
          "output_type": "stream",
          "name": "stdout",
          "text": [
            "Enter the table no7\n",
            "7\n",
            "14\n",
            "21\n",
            "28\n",
            "35\n",
            "42\n",
            "49\n",
            "56\n",
            "63\n",
            "70\n"
          ]
        }
      ]
    },
    {
      "cell_type": "code",
      "source": [
        "#odd numbers 1 to 100\n",
        "\n",
        "i= 1\n",
        "while i <= 100:\n",
        "  print(i)\n",
        "  i+=2\n"
      ],
      "metadata": {
        "colab": {
          "base_uri": "https://localhost:8080/"
        },
        "id": "L1zCK4QA3t3q",
        "outputId": "411fa44b-b977-47ff-a29e-5224157e805f"
      },
      "execution_count": null,
      "outputs": [
        {
          "output_type": "stream",
          "name": "stdout",
          "text": [
            "1\n",
            "3\n",
            "5\n",
            "7\n",
            "9\n",
            "11\n",
            "13\n",
            "15\n",
            "17\n",
            "19\n",
            "21\n",
            "23\n",
            "25\n",
            "27\n",
            "29\n",
            "31\n",
            "33\n",
            "35\n",
            "37\n",
            "39\n",
            "41\n",
            "43\n",
            "45\n",
            "47\n",
            "49\n",
            "51\n",
            "53\n",
            "55\n",
            "57\n",
            "59\n",
            "61\n",
            "63\n",
            "65\n",
            "67\n",
            "69\n",
            "71\n",
            "73\n",
            "75\n",
            "77\n",
            "79\n",
            "81\n",
            "83\n",
            "85\n",
            "87\n",
            "89\n",
            "91\n",
            "93\n",
            "95\n",
            "97\n",
            "99\n"
          ]
        }
      ]
    },
    {
      "cell_type": "code",
      "source": [
        "#for loop\n",
        "\n",
        "for i in \"Nttdata\" :\n",
        "  print(i)\n",
        "\n",
        "for i in (10,20,30) :\n",
        "  print(i)\n",
        "\n",
        "for i in (10,20,30) :         # i will iterate for 3 times\n",
        "  print(\"Nttdata\")\n",
        "\n"
      ],
      "metadata": {
        "colab": {
          "base_uri": "https://localhost:8080/"
        },
        "id": "bwAALF8i490X",
        "outputId": "53d1f4e5-f83d-484e-e892-d51e7d56bd9c"
      },
      "execution_count": null,
      "outputs": [
        {
          "output_type": "stream",
          "name": "stdout",
          "text": [
            "N\n",
            "t\n",
            "t\n",
            "d\n",
            "a\n",
            "t\n",
            "a\n",
            "10\n",
            "20\n",
            "30\n",
            "Nttdata\n",
            "Nttdata\n",
            "Nttdata\n"
          ]
        }
      ]
    },
    {
      "cell_type": "code",
      "source": [
        "#for loop to count the number of vowels\n",
        "\n",
        "s = input(\"Enter a string \")\n",
        "\n",
        "v = ['a','e','i','o','u']\n",
        "\n",
        "ctr = 0\n",
        "\n",
        "for i in s:       # for each iteration one char from s will be assigned to i\n",
        "  if i in v:      # now i will be checked against the list of vowels in v\n",
        "    ctr+=1\n",
        "\n",
        "print(ctr)\n"
      ],
      "metadata": {
        "colab": {
          "base_uri": "https://localhost:8080/"
        },
        "id": "kUrcQkvL6dcZ",
        "outputId": "5b74bd36-3a41-4710-a19e-d4f770729e59"
      },
      "execution_count": null,
      "outputs": [
        {
          "output_type": "stream",
          "name": "stdout",
          "text": [
            "Enter a string Banglore\n",
            "3\n"
          ]
        }
      ]
    },
    {
      "cell_type": "markdown",
      "source": [
        "How to reverse a string using slicing\n",
        "Check a palindrome using slicing"
      ],
      "metadata": {
        "id": "_OhowxxM8aW6"
      }
    },
    {
      "cell_type": "code",
      "source": [
        "s = input('Enter a string')\n",
        "\n",
        "print(s[-1::-1])"
      ],
      "metadata": {
        "colab": {
          "base_uri": "https://localhost:8080/"
        },
        "id": "-Kd8yg9A8Y85",
        "outputId": "4c89458a-70fd-44bd-da93-e08cf491fbef"
      },
      "execution_count": null,
      "outputs": [
        {
          "output_type": "stream",
          "name": "stdout",
          "text": [
            "Enter a stringHello\n",
            "olleH\n"
          ]
        }
      ]
    },
    {
      "cell_type": "code",
      "source": [
        "str = input('Enter a string ')\n",
        "\n",
        "s = str.lower()\n",
        "\n",
        "r = s[-1::-1]\n",
        "\n",
        "if s == r:\n",
        "  print('The string is a panlindrome')\n",
        "else:\n",
        "  print('The string is not a panlindrome')\n"
      ],
      "metadata": {
        "colab": {
          "base_uri": "https://localhost:8080/"
        },
        "id": "bmEtRR8d85De",
        "outputId": "d916cf90-ceb9-437e-91e5-b17d29517571"
      },
      "execution_count": null,
      "outputs": [
        {
          "output_type": "stream",
          "name": "stdout",
          "text": [
            "Enter a stringMalayalam\n",
            "The string is a panlindrome\n"
          ]
        }
      ]
    },
    {
      "cell_type": "code",
      "source": [
        "# nested for loop\n",
        "for i in \"BLR\":\n",
        "  print(\"Outer loop\")\n",
        "  for j in [10,20,30]:\n",
        "    print (\"Inner loop\")\n",
        "    print(i,j)\n"
      ],
      "metadata": {
        "colab": {
          "base_uri": "https://localhost:8080/"
        },
        "id": "yxS5jINQ1upV",
        "outputId": "b0d8b9b1-f89e-4ed1-ed0b-06fea13df764"
      },
      "execution_count": null,
      "outputs": [
        {
          "output_type": "stream",
          "name": "stdout",
          "text": [
            "Outer loop\n",
            "Inner loop\n",
            "B 10\n",
            "Inner loop\n",
            "B 20\n",
            "Inner loop\n",
            "B 30\n",
            "Outer loop\n",
            "Inner loop\n",
            "L 10\n",
            "Inner loop\n",
            "L 20\n",
            "Inner loop\n",
            "L 30\n",
            "Outer loop\n",
            "Inner loop\n",
            "R 10\n",
            "Inner loop\n",
            "R 20\n",
            "Inner loop\n",
            "R 30\n"
          ]
        }
      ]
    },
    {
      "cell_type": "code",
      "source": [
        "str='NTT'\n",
        "print(str[:1:-1])"
      ],
      "metadata": {
        "colab": {
          "base_uri": "https://localhost:8080/"
        },
        "id": "5Ewt8dBW4Th5",
        "outputId": "6e690599-0101-4a82-941e-ac7ef0bc6ecf"
      },
      "execution_count": null,
      "outputs": [
        {
          "output_type": "stream",
          "name": "stdout",
          "text": [
            "T\n"
          ]
        }
      ]
    },
    {
      "cell_type": "code",
      "source": [
        "for i in 'Bangalore':\n",
        "  print(i)\n",
        "  if i == 'g':\n",
        "    break\n",
        "\n"
      ],
      "metadata": {
        "colab": {
          "base_uri": "https://localhost:8080/"
        },
        "id": "ikv1ICG96T2U",
        "outputId": "36c4321f-4cf0-4999-bfd8-50a160b1997c"
      },
      "execution_count": null,
      "outputs": [
        {
          "output_type": "stream",
          "name": "stdout",
          "text": [
            "B\n",
            "a\n",
            "n\n",
            "g\n"
          ]
        }
      ]
    },
    {
      "cell_type": "code",
      "source": [
        "#string concatenation\n",
        "str1 = 'Apple'\n",
        "str2 = ' is good'\n",
        "print (str1+str2)\n",
        "print (str1*3)"
      ],
      "metadata": {
        "colab": {
          "base_uri": "https://localhost:8080/"
        },
        "id": "2PzvUkHz9h-k",
        "outputId": "903f9341-cca9-41a2-bd52-4cd747252023"
      },
      "execution_count": null,
      "outputs": [
        {
          "output_type": "stream",
          "name": "stdout",
          "text": [
            "Apple is good\n",
            "AppleAppleApple\n"
          ]
        }
      ]
    },
    {
      "cell_type": "code",
      "source": [
        "#string is immutable\n",
        "str = 'apple'\n",
        "str[0] = 'A'\n",
        "print(str)"
      ],
      "metadata": {
        "colab": {
          "base_uri": "https://localhost:8080/",
          "height": 193
        },
        "id": "Rq2eFf4K99rZ",
        "outputId": "79e1d731-65fc-4610-89f7-85738df6aebe"
      },
      "execution_count": null,
      "outputs": [
        {
          "output_type": "error",
          "ename": "TypeError",
          "evalue": "'str' object does not support item assignment",
          "traceback": [
            "\u001b[0;31m---------------------------------------------------------------------------\u001b[0m",
            "\u001b[0;31mTypeError\u001b[0m                                 Traceback (most recent call last)",
            "\u001b[0;32m<ipython-input-10-5c62ac24a499>\u001b[0m in \u001b[0;36m<cell line: 0>\u001b[0;34m()\u001b[0m\n\u001b[1;32m      1\u001b[0m \u001b[0;31m#string is immutable\u001b[0m\u001b[0;34m\u001b[0m\u001b[0;34m\u001b[0m\u001b[0m\n\u001b[1;32m      2\u001b[0m \u001b[0mstr\u001b[0m \u001b[0;34m=\u001b[0m \u001b[0;34m'apple'\u001b[0m\u001b[0;34m\u001b[0m\u001b[0;34m\u001b[0m\u001b[0m\n\u001b[0;32m----> 3\u001b[0;31m \u001b[0mstr\u001b[0m\u001b[0;34m[\u001b[0m\u001b[0;36m0\u001b[0m\u001b[0;34m]\u001b[0m \u001b[0;34m=\u001b[0m \u001b[0;34m'A'\u001b[0m\u001b[0;34m\u001b[0m\u001b[0;34m\u001b[0m\u001b[0m\n\u001b[0m\u001b[1;32m      4\u001b[0m \u001b[0mprint\u001b[0m\u001b[0;34m(\u001b[0m\u001b[0mstr\u001b[0m\u001b[0;34m)\u001b[0m\u001b[0;34m\u001b[0m\u001b[0;34m\u001b[0m\u001b[0m\n",
            "\u001b[0;31mTypeError\u001b[0m: 'str' object does not support item assignment"
          ]
        }
      ]
    },
    {
      "cell_type": "code",
      "source": [
        "#deletion of string\n",
        "s = 'apple'\n",
        "print(s)\n",
        "del s\n",
        "print(s)"
      ],
      "metadata": {
        "colab": {
          "base_uri": "https://localhost:8080/",
          "height": 193
        },
        "id": "6T9IM-rQ-W6C",
        "outputId": "b02b7f40-9b18-4e13-c78f-03aaa45d9ebd"
      },
      "execution_count": null,
      "outputs": [
        {
          "output_type": "stream",
          "name": "stdout",
          "text": [
            "apple\n"
          ]
        },
        {
          "output_type": "error",
          "ename": "NameError",
          "evalue": "name 's' is not defined",
          "traceback": [
            "\u001b[0;31m---------------------------------------------------------------------------\u001b[0m",
            "\u001b[0;31mNameError\u001b[0m                                 Traceback (most recent call last)",
            "\u001b[0;32m<ipython-input-12-6d6a33deda74>\u001b[0m in \u001b[0;36m<cell line: 0>\u001b[0;34m()\u001b[0m\n\u001b[1;32m      2\u001b[0m \u001b[0mprint\u001b[0m\u001b[0;34m(\u001b[0m\u001b[0ms\u001b[0m\u001b[0;34m)\u001b[0m\u001b[0;34m\u001b[0m\u001b[0;34m\u001b[0m\u001b[0m\n\u001b[1;32m      3\u001b[0m \u001b[0;32mdel\u001b[0m \u001b[0ms\u001b[0m\u001b[0;34m\u001b[0m\u001b[0;34m\u001b[0m\u001b[0m\n\u001b[0;32m----> 4\u001b[0;31m \u001b[0mprint\u001b[0m\u001b[0;34m(\u001b[0m\u001b[0ms\u001b[0m\u001b[0;34m)\u001b[0m\u001b[0;34m\u001b[0m\u001b[0;34m\u001b[0m\u001b[0m\n\u001b[0m",
            "\u001b[0;31mNameError\u001b[0m: name 's' is not defined"
          ]
        }
      ]
    },
    {
      "cell_type": "code",
      "source": [
        "#length of a srting\n",
        "s = 'Apple'\n",
        "print(len(s))"
      ],
      "metadata": {
        "colab": {
          "base_uri": "https://localhost:8080/"
        },
        "id": "JaGiV3cV-tIh",
        "outputId": "bc4ff6c7-aea6-45c7-ddef-a29d0d865571"
      },
      "execution_count": null,
      "outputs": [
        {
          "output_type": "stream",
          "name": "stdout",
          "text": [
            "5\n"
          ]
        }
      ]
    },
    {
      "cell_type": "code",
      "source": [
        "# count() to find the number of time a substring appears in a string\n",
        "s = 'My name is khan'\n",
        "s.count('khan',5)"
      ],
      "metadata": {
        "colab": {
          "base_uri": "https://localhost:8080/"
        },
        "id": "2H7I99H0_Qbn",
        "outputId": "8f6b58ab-804c-4697-be9a-8910d4d01b42"
      },
      "execution_count": null,
      "outputs": [
        {
          "output_type": "execute_result",
          "data": {
            "text/plain": [
              "1"
            ]
          },
          "metadata": {},
          "execution_count": 20
        }
      ]
    },
    {
      "cell_type": "code",
      "source": [
        "#startswith() returns true or false\n",
        "# startswith(prefix,start,stop)\n",
        "m=input('Enter the main string ')\n",
        "s=input('Enter the substring ')\n",
        "if m.startswith(s):\n",
        "  print('Yes')\n",
        "else:\n",
        "  print('No')"
      ],
      "metadata": {
        "colab": {
          "base_uri": "https://localhost:8080/"
        },
        "id": "FAxarAXLBFT7",
        "outputId": "d3042a1c-7db4-4c9f-bfd1-ee1658127414"
      },
      "execution_count": null,
      "outputs": [
        {
          "output_type": "stream",
          "name": "stdout",
          "text": [
            "Enter the main string January\n",
            "Enter the substring Jan\n",
            "Yes\n"
          ]
        }
      ]
    },
    {
      "cell_type": "code",
      "source": [
        "m=input('Enter mobile num with country code ')\n",
        "if m.startswith('+91'):\n",
        "  print('Indian number')\n",
        "elif m.startswith('+1'):\n",
        "  print('US number')\n",
        "elif m.startswith('+65'):\n",
        "  print('Singapore number')\n",
        "else:\n",
        "  print('Country not known')"
      ],
      "metadata": {
        "colab": {
          "base_uri": "https://localhost:8080/"
        },
        "id": "r3EsakKzCHVi",
        "outputId": "7523ca43-c9cb-4dca-ac7e-4126925bee57"
      },
      "execution_count": null,
      "outputs": [
        {
          "output_type": "stream",
          "name": "stdout",
          "text": [
            "Enter mobile num with country code +867\n",
            "Country not known\n"
          ]
        }
      ]
    },
    {
      "cell_type": "code",
      "source": [
        "#lstrip to remove the mentioned string from thr given string\n",
        "\n",
        "name = input('Enter your name')\n",
        "print(name)\n",
        "\n",
        "name=name.lstrip(' ')\n",
        "print(name)\n",
        "\n"
      ],
      "metadata": {
        "colab": {
          "base_uri": "https://localhost:8080/"
        },
        "id": "H-amxrJSJsDx",
        "outputId": "65d53318-f3fd-46a1-f3ec-859c3f003dd0"
      },
      "execution_count": null,
      "outputs": [
        {
          "output_type": "stream",
          "name": "stdout",
          "text": [
            "Enter your name    Akshaya\n",
            "    Akshaya\n",
            "Akshaya\n"
          ]
        }
      ]
    },
    {
      "cell_type": "code",
      "source": [
        "#lstrip\n",
        "#rstrip\n",
        "\n",
        "url = ['http://www.google.com','http://www.ajoi.com','http://www.mytra.com']\n",
        "for i in url:\n",
        "  #i=i.lstrip(\"http://www.\")\n",
        "  i=i.lstrip(\"htyp:/w.\")\n",
        "  print(i)"
      ],
      "metadata": {
        "colab": {
          "base_uri": "https://localhost:8080/"
        },
        "id": "Avu0VQF_KUuw",
        "outputId": "ca4cdbd0-25e7-41c8-a3ed-4e9395b7577d"
      },
      "execution_count": null,
      "outputs": [
        {
          "output_type": "stream",
          "name": "stdout",
          "text": [
            "google.com\n",
            "ajoi.com\n",
            "mytra.com\n"
          ]
        }
      ]
    },
    {
      "cell_type": "code",
      "source": [
        "# strip - will strip the letters from both right and left\n",
        "# strip considers the letter as individual\n",
        "\n",
        "url = ['http://www.google.com','http://www.ajio.com','http://www.myntra.com']\n",
        "for i in url:\n",
        "  # each char in the input string will be checked against\n",
        "  # 'h','t','p','.','c','o','m' - if not found will stop stripping there\n",
        "  j=i.lstrip(\"htp.com\")\n",
        "  print(j)\n",
        "\n",
        "  k=i.lstrip(\"com.htp\")\n",
        "  print(k)\n",
        "\n",
        "  p=i.rstrip(\"htp.com\")\n",
        "  print(p)\n",
        "  q=i.strip(\"htp.com\")\n",
        "  print(q)"
      ],
      "metadata": {
        "colab": {
          "base_uri": "https://localhost:8080/"
        },
        "id": "XAziKAfYMqZg",
        "outputId": "76badbbb-c524-4e18-c055-f8156b804a9d"
      },
      "execution_count": 2,
      "outputs": [
        {
          "output_type": "stream",
          "name": "stdout",
          "text": [
            "://www.google.com\n",
            "://www.google.com\n",
            "http://www.google\n",
            "://www.google\n",
            "://www.ajio.com\n",
            "://www.ajio.com\n",
            "http://www.aji\n",
            "://www.aji\n",
            "://www.myntra.com\n",
            "://www.myntra.com\n",
            "http://www.myntra\n",
            "://www.myntra\n"
          ]
        }
      ]
    },
    {
      "cell_type": "code",
      "source": [
        "# replace\n",
        "\n",
        "s = 'apple'\n",
        "s.replace('p','P')  # string is immutable\n",
        "print (s)\n",
        "s1 = s.replace('p','P')\n",
        "print (s1)\n",
        "s2 = s.replace('p','P',1)\n",
        "print (s2)"
      ],
      "metadata": {
        "colab": {
          "base_uri": "https://localhost:8080/"
        },
        "id": "qS_Oe1zPRaYm",
        "outputId": "1517761a-9325-4715-e783-806bc4a7c341"
      },
      "execution_count": null,
      "outputs": [
        {
          "output_type": "stream",
          "name": "stdout",
          "text": [
            "apple\n",
            "aPPle\n",
            "aPple\n"
          ]
        }
      ]
    },
    {
      "cell_type": "code",
      "source": [
        "!python --version"
      ],
      "metadata": {
        "colab": {
          "base_uri": "https://localhost:8080/"
        },
        "id": "nnhfF8B8GUuO",
        "outputId": "1010241f-b19c-48ff-8cfa-2ad485800493"
      },
      "execution_count": 1,
      "outputs": [
        {
          "output_type": "stream",
          "name": "stdout",
          "text": [
            "Python 3.11.11\n"
          ]
        }
      ]
    },
    {
      "cell_type": "code",
      "source": [
        "p = 20\n",
        "p"
      ],
      "metadata": {
        "colab": {
          "base_uri": "https://localhost:8080/"
        },
        "id": "-EO0l0jrN415",
        "outputId": "a6cb14b0-b43b-4ea5-9c0c-3cace6df605a"
      },
      "execution_count": 2,
      "outputs": [
        {
          "output_type": "execute_result",
          "data": {
            "text/plain": [
              "20"
            ]
          },
          "metadata": {},
          "execution_count": 2
        }
      ]
    },
    {
      "cell_type": "code",
      "source": [
        "p + 1"
      ],
      "metadata": {
        "colab": {
          "base_uri": "https://localhost:8080/"
        },
        "id": "MJ2F9meRN8Dz",
        "outputId": "96886494-73ab-4e82-d92c-f047d81529cf"
      },
      "execution_count": 3,
      "outputs": [
        {
          "output_type": "execute_result",
          "data": {
            "text/plain": [
              "21"
            ]
          },
          "metadata": {},
          "execution_count": 3
        }
      ]
    },
    {
      "cell_type": "code",
      "source": [
        "# split\n",
        "s = 'I live in Chennai'\n",
        "s.split()\n",
        "\n",
        "s.split(' ',2)"
      ],
      "metadata": {
        "colab": {
          "base_uri": "https://localhost:8080/"
        },
        "id": "vLucKLWrEjky",
        "outputId": "efcc8b81-4b3d-44bc-c945-d2c31274b294"
      },
      "execution_count": 12,
      "outputs": [
        {
          "output_type": "execute_result",
          "data": {
            "text/plain": [
              "['I', 'live', 'in Chennai']"
            ]
          },
          "metadata": {},
          "execution_count": 12
        }
      ]
    },
    {
      "cell_type": "code",
      "source": [
        "# Data structures\n",
        "# List  - [ ] - collection of values of different datatypes\n",
        "# Tuple - ( )\n",
        "# Dictionary - [ ]\n",
        "# Set -\n",
        "\n",
        "my_list = [10,20,30,1.1,'Ntt']\n",
        "print(my_list)\n",
        "print(type(my_list))"
      ],
      "metadata": {
        "colab": {
          "base_uri": "https://localhost:8080/"
        },
        "id": "PdIdtZYBIn-F",
        "outputId": "d854d972-0d8e-4d4e-c811-af64e60a49b7"
      },
      "execution_count": 14,
      "outputs": [
        {
          "output_type": "stream",
          "name": "stdout",
          "text": [
            "[10, 20, 30, 1.1, 'Ntt']\n",
            "<class 'list'>\n"
          ]
        }
      ]
    },
    {
      "cell_type": "code",
      "source": [
        "# List indexing\n",
        "l1=[10,20,3.5,\"Ntt\",[1,2,3]]\n",
        "\n",
        "print(l1[1])\n",
        "print(l1[-1])\n",
        "print(l1[-2])\n",
        "\n",
        "print(l1[4][1])     # access the list within the list"
      ],
      "metadata": {
        "colab": {
          "base_uri": "https://localhost:8080/"
        },
        "id": "wlyRs5jIQHTq",
        "outputId": "5cf33519-2194-4f54-c7a1-9366a7136a17"
      },
      "execution_count": 17,
      "outputs": [
        {
          "output_type": "stream",
          "name": "stdout",
          "text": [
            "20\n",
            "[1, 2, 3]\n",
            "Ntt\n",
            "2\n"
          ]
        }
      ]
    },
    {
      "cell_type": "code",
      "source": [
        "# list slicing\n",
        "\n",
        "l1=[10,20,3.5,\"Ntt\",[1,2,3]]\n",
        "\n",
        "print(l1[::-1])"
      ],
      "metadata": {
        "colab": {
          "base_uri": "https://localhost:8080/"
        },
        "id": "58SyRcCGRest",
        "outputId": "9d6f4cc8-d3a3-4dec-8b3d-c82e8780b1f8"
      },
      "execution_count": 19,
      "outputs": [
        {
          "output_type": "stream",
          "name": "stdout",
          "text": [
            "[[1, 2, 3], 'Ntt', 3.5, 20, 10]\n"
          ]
        }
      ]
    },
    {
      "cell_type": "code",
      "source": [
        "# concatenation of list\n",
        "\n",
        "l1=[10,20,30,70]\n",
        "l2=[40,50,60]\n",
        "l3 = l1+l2\n",
        "print(l3)\n",
        "\n",
        "print(l2+l1)"
      ],
      "metadata": {
        "colab": {
          "base_uri": "https://localhost:8080/"
        },
        "id": "bI4oUB-MSY2y",
        "outputId": "55a7f7ec-2218-403a-a757-1f98f88fd6df"
      },
      "execution_count": 23,
      "outputs": [
        {
          "output_type": "stream",
          "name": "stdout",
          "text": [
            "[10, 20, 30, 70, 40, 50, 60]\n",
            "[40, 50, 60, 10, 20, 30, 70]\n"
          ]
        }
      ]
    },
    {
      "cell_type": "code",
      "source": [
        "# multiplication of the list\n",
        "l1=[40,50,60]\n",
        "print(l1*3)"
      ],
      "metadata": {
        "colab": {
          "base_uri": "https://localhost:8080/"
        },
        "id": "uPKb1-dXStZ9",
        "outputId": "776eb45b-493c-4a47-f59a-62712755bd9b"
      },
      "execution_count": 24,
      "outputs": [
        {
          "output_type": "stream",
          "name": "stdout",
          "text": [
            "[40, 50, 60, 40, 50, 60, 40, 50, 60]\n"
          ]
        }
      ]
    },
    {
      "cell_type": "code",
      "source": [
        "# iteration thru list\n",
        "l1=[40,50,60]\n",
        "\n",
        "for i in l1:\n",
        "  print(i)\n",
        "  print(i+1)"
      ],
      "metadata": {
        "colab": {
          "base_uri": "https://localhost:8080/"
        },
        "id": "iSEReBhGTLNu",
        "outputId": "6104c8ac-d46c-48de-a4f7-82a38b08b40b"
      },
      "execution_count": 26,
      "outputs": [
        {
          "output_type": "stream",
          "name": "stdout",
          "text": [
            "40\n",
            "41\n",
            "50\n",
            "51\n",
            "60\n",
            "61\n"
          ]
        }
      ]
    },
    {
      "cell_type": "code",
      "source": [
        "# list membership  - in\n",
        "\n",
        "l1=[40,50,60]\n",
        "\n",
        "print(40 in l1)"
      ],
      "metadata": {
        "colab": {
          "base_uri": "https://localhost:8080/"
        },
        "id": "ovX5MEJ8T3Db",
        "outputId": "461519f9-a743-46bb-85dc-2fb447fb24d3"
      },
      "execution_count": 30,
      "outputs": [
        {
          "output_type": "stream",
          "name": "stdout",
          "text": [
            "True\n"
          ]
        }
      ]
    },
    {
      "cell_type": "code",
      "source": [
        "# list deletion\n",
        "\n",
        "l1=[40,50,60,80,90]\n",
        "print(l1)\n",
        "del l1[0]\n",
        "print(l1)\n",
        "del l1[1:2]\n",
        "print(l1)\n",
        "del l1\n",
        "print(l1)"
      ],
      "metadata": {
        "colab": {
          "base_uri": "https://localhost:8080/",
          "height": 228
        },
        "id": "6WZ-aP5zUNJO",
        "outputId": "f4b97150-d623-46b7-da15-ad39c60781e5"
      },
      "execution_count": 33,
      "outputs": [
        {
          "output_type": "stream",
          "name": "stdout",
          "text": [
            "[40, 50, 60, 80, 90]\n",
            "[50, 60, 80, 90]\n",
            "[50, 80, 90]\n"
          ]
        },
        {
          "output_type": "error",
          "ename": "NameError",
          "evalue": "name 'l1' is not defined",
          "traceback": [
            "\u001b[0;31m---------------------------------------------------------------------------\u001b[0m",
            "\u001b[0;31mNameError\u001b[0m                                 Traceback (most recent call last)",
            "\u001b[0;32m<ipython-input-33-2893912a7397>\u001b[0m in \u001b[0;36m<cell line: 0>\u001b[0;34m()\u001b[0m\n\u001b[1;32m      8\u001b[0m \u001b[0mprint\u001b[0m\u001b[0;34m(\u001b[0m\u001b[0ml1\u001b[0m\u001b[0;34m)\u001b[0m\u001b[0;34m\u001b[0m\u001b[0;34m\u001b[0m\u001b[0m\n\u001b[1;32m      9\u001b[0m \u001b[0;32mdel\u001b[0m \u001b[0ml1\u001b[0m\u001b[0;34m\u001b[0m\u001b[0;34m\u001b[0m\u001b[0m\n\u001b[0;32m---> 10\u001b[0;31m \u001b[0mprint\u001b[0m\u001b[0;34m(\u001b[0m\u001b[0ml1\u001b[0m\u001b[0;34m)\u001b[0m\u001b[0;34m\u001b[0m\u001b[0;34m\u001b[0m\u001b[0m\n\u001b[0m",
            "\u001b[0;31mNameError\u001b[0m: name 'l1' is not defined"
          ]
        }
      ]
    },
    {
      "cell_type": "code",
      "source": [
        "# max element - can be used only when elements are of similar datatype\n",
        "\n",
        "l1=[40,50,60,80,90]\n",
        "print(max(l1))\n",
        "\n",
        "l2=['a','b','c']\n",
        "print(max(l2))\n",
        "\n",
        "l3=['Aksh','Anu','Ammu']    # here the second char will be compared\n",
        "print(max(l3))\n",
        "\n",
        "l3=['Aksh','Anu','Ammu']\n",
        "print(max(l3,key=len))      # the first string with the max length will be returned"
      ],
      "metadata": {
        "id": "bLbySfPEVLe0",
        "outputId": "7f6ae939-0b5a-4214-b401-62550fe5e792",
        "colab": {
          "base_uri": "https://localhost:8080/"
        }
      },
      "execution_count": 39,
      "outputs": [
        {
          "output_type": "stream",
          "name": "stdout",
          "text": [
            "90\n",
            "c\n",
            "Anu\n",
            "Aksh\n"
          ]
        }
      ]
    },
    {
      "cell_type": "code",
      "source": [
        "# default in max()\n",
        "\n",
        "l1=[]\n",
        "print(max(l1,default='List is empty'))\n",
        "\n",
        "l1=[]\n",
        "print(max(l1,default=1))\n",
        "\n",
        "l1=[]           # this will throw error so we can use default as above\n",
        "print(max(l1))"
      ],
      "metadata": {
        "id": "Z6A5mAvaXbgE",
        "outputId": "325ca488-9402-4683-9d5d-681b5ad75c1c",
        "colab": {
          "base_uri": "https://localhost:8080/",
          "height": 211
        }
      },
      "execution_count": 42,
      "outputs": [
        {
          "output_type": "error",
          "ename": "ValueError",
          "evalue": "max() arg is an empty sequence",
          "traceback": [
            "\u001b[0;31m---------------------------------------------------------------------------\u001b[0m",
            "\u001b[0;31mValueError\u001b[0m                                Traceback (most recent call last)",
            "\u001b[0;32m<ipython-input-42-afd0c0687ca5>\u001b[0m in \u001b[0;36m<cell line: 0>\u001b[0;34m()\u001b[0m\n\u001b[1;32m      1\u001b[0m \u001b[0ml1\u001b[0m\u001b[0;34m=\u001b[0m\u001b[0;34m[\u001b[0m\u001b[0;34m]\u001b[0m\u001b[0;34m\u001b[0m\u001b[0;34m\u001b[0m\u001b[0m\n\u001b[0;32m----> 2\u001b[0;31m \u001b[0mprint\u001b[0m\u001b[0;34m(\u001b[0m\u001b[0mmax\u001b[0m\u001b[0;34m(\u001b[0m\u001b[0ml1\u001b[0m\u001b[0;34m)\u001b[0m\u001b[0;34m)\u001b[0m\u001b[0;34m\u001b[0m\u001b[0;34m\u001b[0m\u001b[0m\n\u001b[0m\u001b[1;32m      3\u001b[0m \u001b[0;34m\u001b[0m\u001b[0m\n\u001b[1;32m      4\u001b[0m \u001b[0ml1\u001b[0m\u001b[0;34m=\u001b[0m\u001b[0;34m[\u001b[0m\u001b[0;34m]\u001b[0m\u001b[0;34m\u001b[0m\u001b[0;34m\u001b[0m\u001b[0m\n\u001b[1;32m      5\u001b[0m \u001b[0mprint\u001b[0m\u001b[0;34m(\u001b[0m\u001b[0mmax\u001b[0m\u001b[0;34m(\u001b[0m\u001b[0ml1\u001b[0m\u001b[0;34m,\u001b[0m\u001b[0mdefault\u001b[0m\u001b[0;34m=\u001b[0m\u001b[0;34m'List is empty'\u001b[0m\u001b[0;34m)\u001b[0m\u001b[0;34m)\u001b[0m\u001b[0;34m\u001b[0m\u001b[0;34m\u001b[0m\u001b[0m\n",
            "\u001b[0;31mValueError\u001b[0m: max() arg is an empty sequence"
          ]
        }
      ]
    },
    {
      "cell_type": "code",
      "source": [
        "# max element - can be used only when elements are of similar datatype\n",
        "\n",
        "l1=[40,50,60,80,90]\n",
        "print(min(l1))\n",
        "\n",
        "l2=['a','b','c']\n",
        "print(min(l2))\n",
        "\n",
        "l3=['Aksh','Anu','Ammu']    # here the second char will be compared\n",
        "print(min(l3))\n",
        "\n",
        "l3=['Aksh','Anu','Ammu']\n",
        "print(min(l3,key=len))      # the first string with the max length will be returned"
      ],
      "metadata": {
        "id": "6R2LwW1Kbi4z",
        "outputId": "ea85332f-8054-4389-959c-95798960009c",
        "colab": {
          "base_uri": "https://localhost:8080/"
        }
      },
      "execution_count": 43,
      "outputs": [
        {
          "output_type": "stream",
          "name": "stdout",
          "text": [
            "40\n",
            "a\n",
            "Aksh\n",
            "Anu\n"
          ]
        }
      ]
    },
    {
      "cell_type": "code",
      "source": [
        "# append() method - adds an element to the end of the list\n",
        "# can append only one element at a time\n",
        "\n",
        "l1=[40,50,60,80,90]\n",
        "l1.append(10.90)\n",
        "print(l1)\n"
      ],
      "metadata": {
        "id": "iwE3IqBAblNp",
        "outputId": "a08cfa88-fe8b-42ed-b68e-cb15a7bf1773",
        "colab": {
          "base_uri": "https://localhost:8080/"
        }
      },
      "execution_count": 44,
      "outputs": [
        {
          "output_type": "stream",
          "name": "stdout",
          "text": [
            "[40, 50, 60, 80, 90, 10.9]\n"
          ]
        }
      ]
    },
    {
      "cell_type": "code",
      "source": [
        "\n",
        "\"\"\"l1 = [10,20,30]\n",
        "\n",
        "loop 5 Items\n",
        "input()\n",
        "append\n",
        "\n",
        "\n",
        "10,20,30,40,50,60,70,80\"\"\"\n",
        "\n",
        "l1 = [10,20,30]\n",
        "\n",
        "for i in range(5):\n",
        "  j = int(input(\"Enter a number \"))\n",
        "  l1.append(j)\n",
        "\n",
        "print(l1)"
      ],
      "metadata": {
        "id": "RDcauMqucCW_",
        "outputId": "ccbc9c30-723b-46f7-e355-0b324331fc8b",
        "colab": {
          "base_uri": "https://localhost:8080/"
        }
      },
      "execution_count": 47,
      "outputs": [
        {
          "output_type": "stream",
          "name": "stdout",
          "text": [
            "Enter a number50\n",
            "Enter a number60\n",
            "Enter a number0\n",
            "Enter a number80\n",
            "Enter a number90\n",
            "[10, 20, 30, 50, 60, 0, 80, 90]\n"
          ]
        }
      ]
    },
    {
      "cell_type": "code",
      "source": [
        "# extend method - this will do the extend operation,\n",
        "#                 but will not anything\n",
        "\n",
        "l1 = [10,20,30]\n",
        "\n",
        "l1.extend([40,50,60])\n",
        "l1.extend((70,80,90))\n",
        "\n",
        "print(l1)\n",
        "\n",
        "l1.extend('Ntt')    # string will be considered as sequence of char\n",
        "print(l1)\n",
        "\n",
        "l3=['NTT']        # here NTT is an element of the list, so it is added as such\n",
        "l1.extend(l3)\n",
        "print(l1)"
      ],
      "metadata": {
        "id": "nKvLYqbVdvtK",
        "outputId": "3ec3ad3c-324c-4939-e688-af8163f6af3b",
        "colab": {
          "base_uri": "https://localhost:8080/"
        }
      },
      "execution_count": 53,
      "outputs": [
        {
          "output_type": "stream",
          "name": "stdout",
          "text": [
            "[10, 20, 30, 40, 50, 60, 70, 80, 90]\n",
            "[10, 20, 30, 40, 50, 60, 70, 80, 90, 'N', 't', 't']\n",
            "[10, 20, 30, 40, 50, 60, 70, 80, 90, 'N', 't', 't', 'NTT']\n"
          ]
        }
      ]
    },
    {
      "cell_type": "code",
      "source": [
        "# insert method\n",
        "\n",
        "l1 = [10,20,30]\n",
        "\n",
        "l1.insert(1,15)     # first parm is the index and the second is the value\n",
        "\n",
        "print(l1)"
      ],
      "metadata": {
        "id": "rCM6eCyWgYgs",
        "outputId": "a00ebc5f-87df-4080-9f54-c66c0e83870c",
        "colab": {
          "base_uri": "https://localhost:8080/"
        }
      },
      "execution_count": 55,
      "outputs": [
        {
          "output_type": "stream",
          "name": "stdout",
          "text": [
            "[10, 15, 20, 30]\n"
          ]
        }
      ]
    }
  ]
}