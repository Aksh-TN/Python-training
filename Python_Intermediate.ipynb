{
  "nbformat": 4,
  "nbformat_minor": 0,
  "metadata": {
    "colab": {
      "provenance": []
    },
    "kernelspec": {
      "name": "python3",
      "display_name": "Python 3"
    },
    "language_info": {
      "name": "python"
    }
  },
  "cells": [
    {
      "cell_type": "code",
      "execution_count": null,
      "metadata": {
        "colab": {
          "base_uri": "https://localhost:8080/"
        },
        "id": "LynczderHEfx",
        "outputId": "341612f5-47fa-4176-cb7a-3453d0392be7"
      },
      "outputs": [
        {
          "output_type": "stream",
          "name": "stdout",
          "text": [
            "Hello World\n"
          ]
        }
      ],
      "source": [
        "print(\"Hello World\")"
      ]
    },
    {
      "cell_type": "code",
      "source": [
        "# Multiple values are returned as tuple\n",
        "\n",
        "def func(a,b,c,d):\n",
        "  return a,b,c,d\n",
        "\n",
        "x = func(3,4,5,6)\n",
        "\n",
        "print(x)\n",
        "\n",
        "# the returned values can be handled like a tuple\n",
        "\n",
        "x = func(3,4,5,6)[2]\n",
        "\n",
        "print(x)\n",
        "\n",
        "x = func(3,4,5,6)[1:3]\n",
        "\n",
        "print(x)\n",
        "\n",
        "# _ is used when some variable can be ignored,\n",
        "# but still the _ will hold the assigned value\n",
        "x,_,y,__ = func(3,4,5,6)\n",
        "\n",
        "print(x,y)\n",
        "print(_,__)\n",
        "\n",
        "# x will have the last assigned value\n",
        "x,x,x,x = func(3,4,5,6)\n",
        "\n",
        "print(x)"
      ],
      "metadata": {
        "colab": {
          "base_uri": "https://localhost:8080/"
        },
        "id": "qjdoTKZL-2x6",
        "outputId": "5e864cad-747a-4927-bbc9-c1b3762d1d98"
      },
      "execution_count": null,
      "outputs": [
        {
          "output_type": "stream",
          "name": "stdout",
          "text": [
            "(3, 4, 5, 6)\n",
            "5\n",
            "(4, 5)\n",
            "3 5\n",
            "4 6\n",
            "6\n"
          ]
        }
      ]
    },
    {
      "cell_type": "code",
      "source": [
        "def test1():\n",
        "  print('In test1')\n",
        "  test2()\n",
        "\n",
        "def test2():\n",
        "  print('In test2')\n",
        "\n",
        "test1()"
      ],
      "metadata": {
        "id": "UjbvPLNfANT9",
        "outputId": "7876df17-6322-4218-e78a-00c0893e2b3f",
        "colab": {
          "base_uri": "https://localhost:8080/"
        }
      },
      "execution_count": null,
      "outputs": [
        {
          "output_type": "stream",
          "name": "stdout",
          "text": [
            "In test1\n",
            "In test2\n"
          ]
        }
      ]
    },
    {
      "cell_type": "code",
      "source": [
        "#local variable life\n",
        "def test():\n",
        "  x = 10\n",
        "  x += 1\n",
        "  print(x)\n",
        "\n",
        "test()\n",
        "test()\n",
        "test()"
      ],
      "metadata": {
        "id": "-q3_oevPDHer",
        "outputId": "725cdc9b-f20b-4f85-a4fe-506e6650f655",
        "colab": {
          "base_uri": "https://localhost:8080/"
        }
      },
      "execution_count": null,
      "outputs": [
        {
          "output_type": "stream",
          "name": "stdout",
          "text": [
            "11\n",
            "11\n",
            "11\n"
          ]
        }
      ]
    },
    {
      "cell_type": "code",
      "source": [
        "#local variable scope\n",
        "\n",
        "def test():\n",
        "  z = 10\n",
        "  z += 1\n",
        "  print(z)\n",
        "\n",
        "test()\n",
        "print(z)\n"
      ],
      "metadata": {
        "id": "GIpYxgxWDcDb",
        "outputId": "041d4006-807a-4704-e65c-4781733bdf28",
        "colab": {
          "base_uri": "https://localhost:8080/",
          "height": 193
        }
      },
      "execution_count": null,
      "outputs": [
        {
          "output_type": "stream",
          "name": "stdout",
          "text": [
            "11\n"
          ]
        },
        {
          "output_type": "error",
          "ename": "NameError",
          "evalue": "name 'z' is not defined",
          "traceback": [
            "\u001b[0;31m---------------------------------------------------------------------------\u001b[0m",
            "\u001b[0;31mNameError\u001b[0m                                 Traceback (most recent call last)",
            "\u001b[0;32m<ipython-input-16-087941507881>\u001b[0m in \u001b[0;36m<cell line: 0>\u001b[0;34m()\u001b[0m\n\u001b[1;32m      7\u001b[0m \u001b[0;34m\u001b[0m\u001b[0m\n\u001b[1;32m      8\u001b[0m \u001b[0mtest\u001b[0m\u001b[0;34m(\u001b[0m\u001b[0;34m)\u001b[0m\u001b[0;34m\u001b[0m\u001b[0;34m\u001b[0m\u001b[0m\n\u001b[0;32m----> 9\u001b[0;31m \u001b[0mprint\u001b[0m\u001b[0;34m(\u001b[0m\u001b[0mz\u001b[0m\u001b[0;34m)\u001b[0m\u001b[0;34m\u001b[0m\u001b[0;34m\u001b[0m\u001b[0m\n\u001b[0m",
            "\u001b[0;31mNameError\u001b[0m: name 'z' is not defined"
          ]
        }
      ]
    },
    {
      "cell_type": "code",
      "source": [
        "#global variable\n",
        "\n",
        "x = 10\n",
        "def test():\n",
        "  print(x)\n",
        "\n",
        "test()\n",
        "print(x)\n"
      ],
      "metadata": {
        "id": "PoTgNmz7Dw-r",
        "outputId": "51cf356c-33b4-4166-ac49-7631c66d8d80",
        "colab": {
          "base_uri": "https://localhost:8080/"
        }
      },
      "execution_count": null,
      "outputs": [
        {
          "output_type": "stream",
          "name": "stdout",
          "text": [
            "10\n",
            "10\n"
          ]
        }
      ]
    },
    {
      "cell_type": "code",
      "source": [
        "#global variable\n",
        "\n",
        "x = 10\n",
        "def test():\n",
        "  print(x)\n",
        "\n",
        "test()\n",
        "print(x)\n"
      ],
      "metadata": {
        "id": "YvuFjcIeEqz1",
        "outputId": "3ba6059f-b458-41b7-819d-bfda2f3722fe",
        "colab": {
          "base_uri": "https://localhost:8080/"
        }
      },
      "execution_count": null,
      "outputs": [
        {
          "output_type": "stream",
          "name": "stdout",
          "text": [
            "11\n",
            "11\n"
          ]
        }
      ]
    },
    {
      "cell_type": "code",
      "source": [
        "x = 10\n",
        "def test():\n",
        "  x = 5\n",
        "  print(x)\n",
        "\n",
        "test()\n",
        "print(x)"
      ],
      "metadata": {
        "id": "RGWobAKJFIjR",
        "outputId": "0e033701-ae6b-419a-8e5f-5dfc3aa129a5",
        "colab": {
          "base_uri": "https://localhost:8080/"
        }
      },
      "execution_count": null,
      "outputs": [
        {
          "output_type": "stream",
          "name": "stdout",
          "text": [
            "5\n",
            "10\n"
          ]
        }
      ]
    },
    {
      "cell_type": "code",
      "source": [
        "x = 10\n",
        "def test():\n",
        "  global x\n",
        "  x = 5\n",
        "  print(x)\n",
        "\n",
        "test()\n",
        "print(x)"
      ],
      "metadata": {
        "id": "l0EPT2vlG8K4",
        "outputId": "4f273c8c-ac30-4c1d-b08a-1f9949a4095e",
        "colab": {
          "base_uri": "https://localhost:8080/"
        }
      },
      "execution_count": null,
      "outputs": [
        {
          "output_type": "stream",
          "name": "stdout",
          "text": [
            "5\n",
            "5\n"
          ]
        }
      ]
    },
    {
      "cell_type": "code",
      "source": [
        "\n",
        "def func():\n",
        "  print('Hello')\n",
        "\n",
        "x = func()\n",
        "\n",
        "print(type(func))\n",
        "print(func)"
      ],
      "metadata": {
        "id": "vAU-DMLTHo9A",
        "outputId": "a13c1ac3-1bd4-453f-e2a7-7296bcf46aba",
        "colab": {
          "base_uri": "https://localhost:8080/"
        }
      },
      "execution_count": null,
      "outputs": [
        {
          "output_type": "stream",
          "name": "stdout",
          "text": [
            "Hello\n",
            "<class 'function'>\n",
            "<function func at 0x7fc7c7cca980>\n"
          ]
        }
      ]
    },
    {
      "cell_type": "code",
      "source": [
        "\n",
        "def mul_fact(factor):\n",
        "  def multipler(number):\n",
        "    return number * factor\n",
        "  return multipler\n",
        "\n",
        "mul_fact_5 = mul_fact(5)\n",
        "\n",
        "result = mul_fact_5(8)\n",
        "\n",
        "print(result)"
      ],
      "metadata": {
        "id": "OoGm7XqxIPrY",
        "outputId": "0563d3da-2255-40b9-9cb1-cdd65c2a74ed",
        "colab": {
          "base_uri": "https://localhost:8080/"
        }
      },
      "execution_count": null,
      "outputs": [
        {
          "output_type": "stream",
          "name": "stdout",
          "text": [
            "40\n"
          ]
        }
      ]
    },
    {
      "cell_type": "code",
      "source": [
        "def multiplier_factory(factor):\n",
        "\n",
        "  def multiplier(number):\n",
        "\n",
        "    return number * factor\n",
        "\n",
        "  # Return the nested function\n",
        "  return multiplier  # returning the inner function\n",
        "\n",
        "# Create a function that multiplies by 5\n",
        "multiply_by_5 = multiplier_factory(5)\n",
        "\n",
        "# Create a function that multiplies by 10\n",
        "multiply_by_10 = multiplier_factory(10)\n",
        "\n",
        "# Use the created functions\n",
        "result1 = multiply_by_5(8)\n",
        "result2 = multiply_by_10(4)\n",
        "\n",
        "print(f\"8 multiplied by 5 is: {result1}\")  # Output: 8 multiplied by 5 is: 40\n",
        "print(f\"4 multiplied by 10 is: {result2}\") # Output: 4 multiplied by 10 is: 40\n"
      ],
      "metadata": {
        "id": "NOt0eY5_LZlM",
        "outputId": "4720ce88-2f64-45b7-f001-e49ade303548",
        "colab": {
          "base_uri": "https://localhost:8080/"
        }
      },
      "execution_count": null,
      "outputs": [
        {
          "output_type": "stream",
          "name": "stdout",
          "text": [
            "8 multiplied by 5 is: 40\n",
            "4 multiplied by 10 is: 40\n"
          ]
        }
      ]
    },
    {
      "cell_type": "code",
      "source": [
        "#alias name for a func\n",
        "\n",
        "def test():\n",
        "  print ('Hello')\n",
        "\n",
        "a = test\n",
        "\n",
        "a()"
      ],
      "metadata": {
        "id": "3d9Z_O61Lyxc",
        "outputId": "2d763d3a-f5cd-411a-926f-047b5473bda2",
        "colab": {
          "base_uri": "https://localhost:8080/"
        }
      },
      "execution_count": null,
      "outputs": [
        {
          "output_type": "stream",
          "name": "stdout",
          "text": [
            "Hello\n"
          ]
        }
      ]
    },
    {
      "cell_type": "code",
      "source": [
        "# pos arg\n",
        "\n",
        "def func(a,b):\n",
        "  print(a,b)\n",
        "\n",
        "func(10,20)"
      ],
      "metadata": {
        "id": "gld-inP6MAfb",
        "outputId": "bcb3ce1d-b18b-40c7-c103-d727ff100705",
        "colab": {
          "base_uri": "https://localhost:8080/"
        }
      },
      "execution_count": null,
      "outputs": [
        {
          "output_type": "stream",
          "name": "stdout",
          "text": [
            "10 20\n"
          ]
        }
      ]
    },
    {
      "cell_type": "code",
      "source": [
        "# keyword arg\n",
        "\n",
        "def func(a,b):\n",
        "  print(a,b)\n",
        "\n",
        "func(b=10,a=30)"
      ],
      "metadata": {
        "id": "IB2yhsylNDGB",
        "outputId": "f3429127-4e78-4b51-bf32-400a0b400b9e",
        "colab": {
          "base_uri": "https://localhost:8080/"
        }
      },
      "execution_count": null,
      "outputs": [
        {
          "output_type": "stream",
          "name": "stdout",
          "text": [
            "30 10\n"
          ]
        }
      ]
    },
    {
      "cell_type": "code",
      "source": [
        "# pos and keyword arg\n",
        "\n",
        "def func(a,b,c):\n",
        "  print(a,b,c)\n",
        "\n",
        "#func(a=10,c=30,20) #SyntaxError: positional argument follows keyword argument\n",
        "\n",
        "func(10,c=30,b=20)"
      ],
      "metadata": {
        "id": "MihHZVDkNT_L",
        "outputId": "2c8c5dd0-a2c2-4c87-bdd0-5b68a5bb8445",
        "colab": {
          "base_uri": "https://localhost:8080/"
        }
      },
      "execution_count": null,
      "outputs": [
        {
          "output_type": "stream",
          "name": "stdout",
          "text": [
            "10 20 30\n"
          ]
        }
      ]
    },
    {
      "cell_type": "code",
      "source": [
        "\n",
        "#def func(a=10,b):   #SyntaxError: non-default argument follows default argument\n",
        "\n",
        "def func(a,b=10):\n",
        "  print(a,b)\n",
        "\n",
        "func(5)\n",
        "\n",
        "func(5,6) # b will be overridden with 6"
      ],
      "metadata": {
        "id": "nzPpmZS0Pyi0",
        "outputId": "fa7ca7a8-38d8-4b3f-a98c-018f5b2915f5",
        "colab": {
          "base_uri": "https://localhost:8080/"
        }
      },
      "execution_count": null,
      "outputs": [
        {
          "output_type": "stream",
          "name": "stdout",
          "text": [
            "5 10\n",
            "5 6\n"
          ]
        }
      ]
    },
    {
      "cell_type": "code",
      "source": [
        "def student(name,age,m1,m2,m3,college='UVNP'):\n",
        "  print(name,age,m1,m2,m3,'in college',college)\n",
        "\n",
        "student('John',22,m1=90,m2=80,m3=70)\n",
        "student('Ram',21,34,45,67)\n",
        "student('Ram',21,34,45,college='XYZ',m3=56)"
      ],
      "metadata": {
        "id": "YMm0LNmoQNvu",
        "outputId": "5aa69852-2fa6-467e-a107-9a7b5f07703f",
        "colab": {
          "base_uri": "https://localhost:8080/"
        }
      },
      "execution_count": null,
      "outputs": [
        {
          "output_type": "stream",
          "name": "stdout",
          "text": [
            "John 22 90 80 70 in college UVNP\n",
            "Ram 21 34 45 67 in college UVNP\n",
            "Ram 21 34 45 56 in college XYZ\n"
          ]
        }
      ]
    },
    {
      "cell_type": "code",
      "source": [
        "# variable length positional argument def func(*a)\n",
        "\n",
        "def func(*a):\n",
        "  print(a)\n",
        "  print(type(a))\n",
        "\n",
        "func(2,3)\n",
        "func(3,4,5)\n"
      ],
      "metadata": {
        "id": "mjLoPUFYSPXL",
        "outputId": "3f3d7790-643b-4f58-fffd-0d7624c0a18d",
        "colab": {
          "base_uri": "https://localhost:8080/"
        }
      },
      "execution_count": null,
      "outputs": [
        {
          "output_type": "stream",
          "name": "stdout",
          "text": [
            "(2, 3)\n",
            "<class 'tuple'>\n",
            "(3, 4, 5)\n",
            "<class 'tuple'>\n"
          ]
        }
      ]
    },
    {
      "cell_type": "code",
      "source": [
        "def add(*a):\n",
        "  total = 0\n",
        "  for i in a:\n",
        "    total += i\n",
        "  print(total)\n",
        "\n",
        "add(2,3)\n",
        "add(3,4,5)"
      ],
      "metadata": {
        "id": "_OyLA5C8Tf8C",
        "outputId": "4d5d2e99-9aab-4849-e808-8a2495db48c8",
        "colab": {
          "base_uri": "https://localhost:8080/"
        }
      },
      "execution_count": null,
      "outputs": [
        {
          "output_type": "stream",
          "name": "stdout",
          "text": [
            "5\n",
            "12\n"
          ]
        }
      ]
    },
    {
      "cell_type": "code",
      "source": [
        "# variable lenght keyword args\n",
        "\n",
        "def func(**a):    # the arguments will be passed as dictionary\n",
        "  print(a)\n",
        "  print(type(a))\n",
        "  for k,v in a.items():\n",
        "    print(k,v)\n",
        "\n",
        "func(a=2,b=3)\n",
        "func(a=3,b=4,c=5)"
      ],
      "metadata": {
        "id": "VNCu-R2QUASA",
        "outputId": "ca5f6e24-ea10-4490-95b9-22ff94e3cf72",
        "colab": {
          "base_uri": "https://localhost:8080/"
        }
      },
      "execution_count": null,
      "outputs": [
        {
          "output_type": "stream",
          "name": "stdout",
          "text": [
            "{'a': 2, 'b': 3}\n",
            "<class 'dict'>\n",
            "a 2\n",
            "b 3\n",
            "{'a': 3, 'b': 4, 'c': 5}\n",
            "<class 'dict'>\n",
            "a 3\n",
            "b 4\n",
            "c 5\n"
          ]
        }
      ]
    },
    {
      "cell_type": "code",
      "source": [
        "class Student:\n",
        "  sudent_count=0\n",
        "  collegename='UPVC'\n",
        "\n",
        "  def __init__(self,name):\n",
        "    self.name = name\n",
        "    self.age = age\n",
        "\n",
        "  @Classmethod\n",
        ""
      ],
      "metadata": {
        "id": "bGwYptNBUhmo"
      },
      "execution_count": null,
      "outputs": []
    },
    {
      "cell_type": "code",
      "source": [
        "class Employee:\n",
        "\n",
        "  bonus = 2000\n",
        "\n",
        "  def display(self):\n",
        "    print ('Employee class method')\n",
        "\n",
        "class Manager:\n",
        "\n",
        "  bonus1 = 5000\n",
        "\n",
        "  def show(self):\n",
        "    print ('Manager class method')\n",
        "\n",
        "emp = Employee()\n",
        "man = Manager()\n",
        "\n",
        "emp.display()\n",
        "man.show()\n",
        "\n",
        "\n",
        "man.bonus # error"
      ],
      "metadata": {
        "id": "uCmVP3eDJgsL",
        "outputId": "0fa6e4a0-077c-41f1-dd9c-319463874230",
        "colab": {
          "base_uri": "https://localhost:8080/",
          "height": 211
        }
      },
      "execution_count": 1,
      "outputs": [
        {
          "output_type": "stream",
          "name": "stdout",
          "text": [
            "Employee class method\n",
            "Manager class method\n"
          ]
        },
        {
          "output_type": "error",
          "ename": "AttributeError",
          "evalue": "'Manager' object has no attribute 'bonus'",
          "traceback": [
            "\u001b[0;31m---------------------------------------------------------------------------\u001b[0m",
            "\u001b[0;31mAttributeError\u001b[0m                            Traceback (most recent call last)",
            "\u001b[0;32m<ipython-input-1-3651b2051c5d>\u001b[0m in \u001b[0;36m<cell line: 0>\u001b[0;34m()\u001b[0m\n\u001b[1;32m     20\u001b[0m \u001b[0;34m\u001b[0m\u001b[0m\n\u001b[1;32m     21\u001b[0m \u001b[0;34m\u001b[0m\u001b[0m\n\u001b[0;32m---> 22\u001b[0;31m \u001b[0mman\u001b[0m\u001b[0;34m.\u001b[0m\u001b[0mbonus\u001b[0m\u001b[0;34m\u001b[0m\u001b[0;34m\u001b[0m\u001b[0m\n\u001b[0m",
            "\u001b[0;31mAttributeError\u001b[0m: 'Manager' object has no attribute 'bonus'"
          ]
        }
      ]
    },
    {
      "cell_type": "code",
      "source": [
        "#inheritance\n",
        "\n",
        "class Employee:\n",
        "\n",
        "  bonus = 2000\n",
        "\n",
        "  def display(self):\n",
        "    print ('Employee class method')\n",
        "\n",
        "class Manager(Employee):\n",
        "\n",
        "  bonus1 = 5000\n",
        "\n",
        "  def show(self):\n",
        "    print ('Manager class method')\n",
        "\n",
        "emp = Employee()\n",
        "man = Manager()\n",
        "\n",
        "emp.display()\n",
        "man.show()\n",
        "\n",
        "\n",
        "man.bonus"
      ],
      "metadata": {
        "id": "ZGECPkI2Klsr",
        "outputId": "e8f2e8aa-928a-4502-cebe-d6fb44121767",
        "colab": {
          "base_uri": "https://localhost:8080/"
        }
      },
      "execution_count": 2,
      "outputs": [
        {
          "output_type": "stream",
          "name": "stdout",
          "text": [
            "Employee class method\n",
            "Manager class method\n"
          ]
        },
        {
          "output_type": "execute_result",
          "data": {
            "text/plain": [
              "2000"
            ]
          },
          "metadata": {},
          "execution_count": 2
        }
      ]
    },
    {
      "cell_type": "code",
      "source": [
        "#constructor in inheritance\n",
        "# if the child doesn't have constructor parent constructor will be called\n",
        "\n",
        "class Father:\n",
        "  def __init__(self):\n",
        "    print('Father constructor')\n",
        "    self.vehicle='Scooter'\n",
        "\n",
        "class Son(Father):\n",
        "  pass\n",
        "\n",
        "s = Son()\n",
        "print(s.__dict__)"
      ],
      "metadata": {
        "id": "zUVlFtGtLRRu",
        "outputId": "c579e0ed-3954-4067-9267-1413ade0c1f5",
        "colab": {
          "base_uri": "https://localhost:8080/"
        }
      },
      "execution_count": 3,
      "outputs": [
        {
          "output_type": "stream",
          "name": "stdout",
          "text": [
            "Father constructor\n",
            "{'vehicle': 'Scooter'}\n"
          ]
        }
      ]
    },
    {
      "cell_type": "code",
      "source": [
        "#constructor in inheritance - when the child has a constructor\n",
        "# then the parent constructor will not be called\n",
        "class Father:\n",
        "  def __init__(self):\n",
        "    print('Father constructor')\n",
        "    self.vehicle='Scooter'\n",
        "\n",
        "class Son(Father):\n",
        "  def __init__(self):\n",
        "    print('Son constructor')\n",
        "    self.vehicle='Bike'\n",
        "\n",
        "\n",
        "s = Son()\n",
        "print(s.__dict__)"
      ],
      "metadata": {
        "id": "GLN3lZbAMsEQ",
        "outputId": "8479939b-5516-4176-86f6-23af29d7d15b",
        "colab": {
          "base_uri": "https://localhost:8080/"
        }
      },
      "execution_count": 4,
      "outputs": [
        {
          "output_type": "stream",
          "name": "stdout",
          "text": [
            "Son constructor\n",
            "{'vehicle': 'Bike'}\n"
          ]
        }
      ]
    },
    {
      "cell_type": "code",
      "source": [
        "# super method\n",
        "\n",
        "class Father:\n",
        "  def __init__(self):\n",
        "    print('Father constructor')\n",
        "    self.vehicle='Scooter'\n",
        "\n",
        "class Son(Father):\n",
        "  def __init__(self):\n",
        "    super().__init__()\n",
        "    print('Son constructor')\n",
        "    self.age=20\n",
        "\n",
        "\n",
        "s = Son()\n",
        "print(s.__dict__)"
      ],
      "metadata": {
        "id": "1ZUIh4GzN-EB",
        "outputId": "9bd87606-78f4-40f2-98b8-3b6fbab93b3e",
        "colab": {
          "base_uri": "https://localhost:8080/"
        }
      },
      "execution_count": 9,
      "outputs": [
        {
          "output_type": "stream",
          "name": "stdout",
          "text": [
            "Father constructor\n",
            "Son constructor\n",
            "{'vehicle': 'Scooter', 'age': 20}\n"
          ]
        }
      ]
    },
    {
      "cell_type": "code",
      "source": [
        "# Parameterized super method\n",
        "\n",
        "class Father:\n",
        "  def __init__(self,vehicle):\n",
        "    print('Father constructor')\n",
        "    self.vehicle=vehicle\n",
        "\n",
        "class Son(Father):\n",
        "  def __init__(self,age,vehicle):\n",
        "    super().__init__(vehicle)\n",
        "    print('Son constructor')\n",
        "    self.age=age\n",
        "\n",
        "\n",
        "s = Son(20,'Scooter')\n",
        "print(s.__dict__)"
      ],
      "metadata": {
        "id": "jEqkXubROjAt",
        "outputId": "0a3ba653-faf9-435b-9594-fbfd337e3106",
        "colab": {
          "base_uri": "https://localhost:8080/"
        }
      },
      "execution_count": 11,
      "outputs": [
        {
          "output_type": "stream",
          "name": "stdout",
          "text": [
            "Father constructor\n",
            "Son constructor\n",
            "{'vehicle': 'Scooter', 'age': 20}\n"
          ]
        }
      ]
    }
  ]
}