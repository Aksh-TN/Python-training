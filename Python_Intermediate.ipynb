{
  "nbformat": 4,
  "nbformat_minor": 0,
  "metadata": {
    "colab": {
      "provenance": []
    },
    "kernelspec": {
      "name": "python3",
      "display_name": "Python 3"
    },
    "language_info": {
      "name": "python"
    }
  },
  "cells": [
    {
      "cell_type": "code",
      "execution_count": null,
      "metadata": {
        "colab": {
          "base_uri": "https://localhost:8080/"
        },
        "id": "LynczderHEfx",
        "outputId": "341612f5-47fa-4176-cb7a-3453d0392be7"
      },
      "outputs": [
        {
          "output_type": "stream",
          "name": "stdout",
          "text": [
            "Hello World\n"
          ]
        }
      ],
      "source": [
        "print(\"Hello World\")"
      ]
    },
    {
      "cell_type": "code",
      "source": [
        "# Multiple values are returned as tuple\n",
        "\n",
        "def func(a,b,c,d):\n",
        "  return a,b,c,d\n",
        "\n",
        "x = func(3,4,5,6)\n",
        "\n",
        "print(x)\n",
        "\n",
        "# the returned values can be handled like a tuple\n",
        "\n",
        "x = func(3,4,5,6)[2]\n",
        "\n",
        "print(x)\n",
        "\n",
        "x = func(3,4,5,6)[1:3]\n",
        "\n",
        "print(x)\n",
        "\n",
        "x,_,y,__ = func(3,4,5,6)\n",
        "\n",
        "print(x,y)\n",
        "print(_,__)\n",
        "\n",
        "# x will have the last assigned value\n",
        "x,x,x,x = func(3,4,5,6)\n",
        "\n",
        "print(x)"
      ],
      "metadata": {
        "id": "qjdoTKZL-2x6",
        "outputId": "5e864cad-747a-4927-bbc9-c1b3762d1d98",
        "colab": {
          "base_uri": "https://localhost:8080/"
        }
      },
      "execution_count": 6,
      "outputs": [
        {
          "output_type": "stream",
          "name": "stdout",
          "text": [
            "(3, 4, 5, 6)\n",
            "5\n",
            "(4, 5)\n",
            "3 5\n",
            "4 6\n",
            "6\n"
          ]
        }
      ]
    }
  ]
}