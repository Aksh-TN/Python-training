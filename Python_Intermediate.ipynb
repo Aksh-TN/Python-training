{
  "nbformat": 4,
  "nbformat_minor": 0,
  "metadata": {
    "colab": {
      "provenance": []
    },
    "kernelspec": {
      "name": "python3",
      "display_name": "Python 3"
    },
    "language_info": {
      "name": "python"
    }
  },
  "cells": [
    {
      "cell_type": "code",
      "execution_count": null,
      "metadata": {
        "colab": {
          "base_uri": "https://localhost:8080/"
        },
        "id": "LynczderHEfx",
        "outputId": "341612f5-47fa-4176-cb7a-3453d0392be7"
      },
      "outputs": [
        {
          "output_type": "stream",
          "name": "stdout",
          "text": [
            "Hello World\n"
          ]
        }
      ],
      "source": [
        "print(\"Hello World\")"
      ]
    },
    {
      "cell_type": "code",
      "source": [
        "# Multiple values are returned as tuple\n",
        "\n",
        "def func(a,b,c,d):\n",
        "  return a,b,c,d\n",
        "\n",
        "x = func(3,4,5,6)\n",
        "\n",
        "print(x)\n",
        "\n",
        "# the returned values can be handled like a tuple\n",
        "\n",
        "x = func(3,4,5,6)[2]\n",
        "\n",
        "print(x)\n",
        "\n",
        "x = func(3,4,5,6)[1:3]\n",
        "\n",
        "print(x)\n",
        "\n",
        "# _ is used when some variable can be ignored,\n",
        "# but still the _ will hold the assigned value\n",
        "x,_,y,__ = func(3,4,5,6)\n",
        "\n",
        "print(x,y)\n",
        "print(_,__)\n",
        "\n",
        "# x will have the last assigned value\n",
        "x,x,x,x = func(3,4,5,6)\n",
        "\n",
        "print(x)"
      ],
      "metadata": {
        "colab": {
          "base_uri": "https://localhost:8080/"
        },
        "id": "qjdoTKZL-2x6",
        "outputId": "5e864cad-747a-4927-bbc9-c1b3762d1d98"
      },
      "execution_count": null,
      "outputs": [
        {
          "output_type": "stream",
          "name": "stdout",
          "text": [
            "(3, 4, 5, 6)\n",
            "5\n",
            "(4, 5)\n",
            "3 5\n",
            "4 6\n",
            "6\n"
          ]
        }
      ]
    },
    {
      "cell_type": "code",
      "source": [
        "def test1():\n",
        "  print('In test1')\n",
        "  test2()\n",
        "\n",
        "def test2():\n",
        "  print('In test2')\n",
        "\n",
        "test1()"
      ],
      "metadata": {
        "id": "UjbvPLNfANT9",
        "outputId": "7876df17-6322-4218-e78a-00c0893e2b3f",
        "colab": {
          "base_uri": "https://localhost:8080/"
        }
      },
      "execution_count": null,
      "outputs": [
        {
          "output_type": "stream",
          "name": "stdout",
          "text": [
            "In test1\n",
            "In test2\n"
          ]
        }
      ]
    },
    {
      "cell_type": "code",
      "source": [
        "#local variable life\n",
        "def test():\n",
        "  x = 10\n",
        "  x += 1\n",
        "  print(x)\n",
        "\n",
        "test()\n",
        "test()\n",
        "test()"
      ],
      "metadata": {
        "id": "-q3_oevPDHer",
        "outputId": "725cdc9b-f20b-4f85-a4fe-506e6650f655",
        "colab": {
          "base_uri": "https://localhost:8080/"
        }
      },
      "execution_count": null,
      "outputs": [
        {
          "output_type": "stream",
          "name": "stdout",
          "text": [
            "11\n",
            "11\n",
            "11\n"
          ]
        }
      ]
    },
    {
      "cell_type": "code",
      "source": [
        "#local variable scope\n",
        "\n",
        "def test():\n",
        "  z = 10\n",
        "  z += 1\n",
        "  print(z)\n",
        "\n",
        "test()\n",
        "print(z)\n"
      ],
      "metadata": {
        "id": "GIpYxgxWDcDb",
        "outputId": "041d4006-807a-4704-e65c-4781733bdf28",
        "colab": {
          "base_uri": "https://localhost:8080/",
          "height": 193
        }
      },
      "execution_count": null,
      "outputs": [
        {
          "output_type": "stream",
          "name": "stdout",
          "text": [
            "11\n"
          ]
        },
        {
          "output_type": "error",
          "ename": "NameError",
          "evalue": "name 'z' is not defined",
          "traceback": [
            "\u001b[0;31m---------------------------------------------------------------------------\u001b[0m",
            "\u001b[0;31mNameError\u001b[0m                                 Traceback (most recent call last)",
            "\u001b[0;32m<ipython-input-16-087941507881>\u001b[0m in \u001b[0;36m<cell line: 0>\u001b[0;34m()\u001b[0m\n\u001b[1;32m      7\u001b[0m \u001b[0;34m\u001b[0m\u001b[0m\n\u001b[1;32m      8\u001b[0m \u001b[0mtest\u001b[0m\u001b[0;34m(\u001b[0m\u001b[0;34m)\u001b[0m\u001b[0;34m\u001b[0m\u001b[0;34m\u001b[0m\u001b[0m\n\u001b[0;32m----> 9\u001b[0;31m \u001b[0mprint\u001b[0m\u001b[0;34m(\u001b[0m\u001b[0mz\u001b[0m\u001b[0;34m)\u001b[0m\u001b[0;34m\u001b[0m\u001b[0;34m\u001b[0m\u001b[0m\n\u001b[0m",
            "\u001b[0;31mNameError\u001b[0m: name 'z' is not defined"
          ]
        }
      ]
    },
    {
      "cell_type": "code",
      "source": [
        "#global variable\n",
        "\n",
        "x = 10\n",
        "def test():\n",
        "  print(x)\n",
        "\n",
        "test()\n",
        "print(x)\n"
      ],
      "metadata": {
        "id": "PoTgNmz7Dw-r",
        "outputId": "51cf356c-33b4-4166-ac49-7631c66d8d80",
        "colab": {
          "base_uri": "https://localhost:8080/"
        }
      },
      "execution_count": null,
      "outputs": [
        {
          "output_type": "stream",
          "name": "stdout",
          "text": [
            "10\n",
            "10\n"
          ]
        }
      ]
    },
    {
      "cell_type": "code",
      "source": [
        "#global variable\n",
        "\n",
        "x = 10\n",
        "def test():\n",
        "  print(x)\n",
        "\n",
        "test()\n",
        "print(x)\n"
      ],
      "metadata": {
        "id": "YvuFjcIeEqz1",
        "outputId": "3ba6059f-b458-41b7-819d-bfda2f3722fe",
        "colab": {
          "base_uri": "https://localhost:8080/"
        }
      },
      "execution_count": null,
      "outputs": [
        {
          "output_type": "stream",
          "name": "stdout",
          "text": [
            "11\n",
            "11\n"
          ]
        }
      ]
    },
    {
      "cell_type": "code",
      "source": [
        "x = 10\n",
        "def test():\n",
        "  x = 5\n",
        "  print(x)\n",
        "\n",
        "test()\n",
        "print(x)"
      ],
      "metadata": {
        "id": "RGWobAKJFIjR",
        "outputId": "0e033701-ae6b-419a-8e5f-5dfc3aa129a5",
        "colab": {
          "base_uri": "https://localhost:8080/"
        }
      },
      "execution_count": null,
      "outputs": [
        {
          "output_type": "stream",
          "name": "stdout",
          "text": [
            "5\n",
            "10\n"
          ]
        }
      ]
    },
    {
      "cell_type": "code",
      "source": [
        "x = 10\n",
        "def test():\n",
        "  global x\n",
        "  x = 5\n",
        "  print(x)\n",
        "\n",
        "test()\n",
        "print(x)"
      ],
      "metadata": {
        "id": "l0EPT2vlG8K4",
        "outputId": "4f273c8c-ac30-4c1d-b08a-1f9949a4095e",
        "colab": {
          "base_uri": "https://localhost:8080/"
        }
      },
      "execution_count": null,
      "outputs": [
        {
          "output_type": "stream",
          "name": "stdout",
          "text": [
            "5\n",
            "5\n"
          ]
        }
      ]
    },
    {
      "cell_type": "code",
      "source": [
        "\n",
        "def func():\n",
        "  print('Hello')\n",
        "\n",
        "x = func()\n",
        "\n",
        "print(type(func))\n",
        "print(func)"
      ],
      "metadata": {
        "id": "vAU-DMLTHo9A",
        "outputId": "a13c1ac3-1bd4-453f-e2a7-7296bcf46aba",
        "colab": {
          "base_uri": "https://localhost:8080/"
        }
      },
      "execution_count": null,
      "outputs": [
        {
          "output_type": "stream",
          "name": "stdout",
          "text": [
            "Hello\n",
            "<class 'function'>\n",
            "<function func at 0x7fc7c7cca980>\n"
          ]
        }
      ]
    },
    {
      "cell_type": "code",
      "source": [
        "\n",
        "def mul_fact(factor):\n",
        "  def multipler(number):\n",
        "    return number * factor\n",
        "  return multipler\n",
        "\n",
        "mul_fact_5 = mul_fact(5)\n",
        "\n",
        "result = mul_fact_5(8)\n",
        "\n",
        "print(result)"
      ],
      "metadata": {
        "id": "OoGm7XqxIPrY",
        "outputId": "0563d3da-2255-40b9-9cb1-cdd65c2a74ed",
        "colab": {
          "base_uri": "https://localhost:8080/"
        }
      },
      "execution_count": null,
      "outputs": [
        {
          "output_type": "stream",
          "name": "stdout",
          "text": [
            "40\n"
          ]
        }
      ]
    },
    {
      "cell_type": "code",
      "source": [
        "def multiplier_factory(factor):\n",
        "\n",
        "  def multiplier(number):\n",
        "\n",
        "    return number * factor\n",
        "\n",
        "  # Return the nested function\n",
        "  return multiplier  # returning the inner function\n",
        "\n",
        "# Create a function that multiplies by 5\n",
        "multiply_by_5 = multiplier_factory(5)\n",
        "\n",
        "# Create a function that multiplies by 10\n",
        "multiply_by_10 = multiplier_factory(10)\n",
        "\n",
        "# Use the created functions\n",
        "result1 = multiply_by_5(8)\n",
        "result2 = multiply_by_10(4)\n",
        "\n",
        "print(f\"8 multiplied by 5 is: {result1}\")  # Output: 8 multiplied by 5 is: 40\n",
        "print(f\"4 multiplied by 10 is: {result2}\") # Output: 4 multiplied by 10 is: 40\n"
      ],
      "metadata": {
        "id": "NOt0eY5_LZlM",
        "outputId": "4720ce88-2f64-45b7-f001-e49ade303548",
        "colab": {
          "base_uri": "https://localhost:8080/"
        }
      },
      "execution_count": null,
      "outputs": [
        {
          "output_type": "stream",
          "name": "stdout",
          "text": [
            "8 multiplied by 5 is: 40\n",
            "4 multiplied by 10 is: 40\n"
          ]
        }
      ]
    },
    {
      "cell_type": "code",
      "source": [
        "#alias name for a func\n",
        "\n",
        "def test():\n",
        "  print ('Hello')\n",
        "\n",
        "a = test\n",
        "\n",
        "a()"
      ],
      "metadata": {
        "id": "3d9Z_O61Lyxc",
        "outputId": "2d763d3a-f5cd-411a-926f-047b5473bda2",
        "colab": {
          "base_uri": "https://localhost:8080/"
        }
      },
      "execution_count": null,
      "outputs": [
        {
          "output_type": "stream",
          "name": "stdout",
          "text": [
            "Hello\n"
          ]
        }
      ]
    },
    {
      "cell_type": "code",
      "source": [
        "# pos arg\n",
        "\n",
        "def func(a,b):\n",
        "  print(a,b)\n",
        "\n",
        "func(10,20)"
      ],
      "metadata": {
        "id": "gld-inP6MAfb",
        "outputId": "bcb3ce1d-b18b-40c7-c103-d727ff100705",
        "colab": {
          "base_uri": "https://localhost:8080/"
        }
      },
      "execution_count": null,
      "outputs": [
        {
          "output_type": "stream",
          "name": "stdout",
          "text": [
            "10 20\n"
          ]
        }
      ]
    },
    {
      "cell_type": "code",
      "source": [
        "# keyword arg\n",
        "\n",
        "def func(a,b):\n",
        "  print(a,b)\n",
        "\n",
        "func(b=10,a=30)"
      ],
      "metadata": {
        "id": "IB2yhsylNDGB",
        "outputId": "f3429127-4e78-4b51-bf32-400a0b400b9e",
        "colab": {
          "base_uri": "https://localhost:8080/"
        }
      },
      "execution_count": null,
      "outputs": [
        {
          "output_type": "stream",
          "name": "stdout",
          "text": [
            "30 10\n"
          ]
        }
      ]
    },
    {
      "cell_type": "code",
      "source": [
        "# pos and keyword arg\n",
        "\n",
        "def func(a,b,c):\n",
        "  print(a,b,c)\n",
        "\n",
        "#func(a=10,c=30,20) #SyntaxError: positional argument follows keyword argument\n",
        "\n",
        "func(10,c=30,b=20)"
      ],
      "metadata": {
        "id": "MihHZVDkNT_L",
        "outputId": "2c8c5dd0-a2c2-4c87-bdd0-5b68a5bb8445",
        "colab": {
          "base_uri": "https://localhost:8080/"
        }
      },
      "execution_count": null,
      "outputs": [
        {
          "output_type": "stream",
          "name": "stdout",
          "text": [
            "10 20 30\n"
          ]
        }
      ]
    },
    {
      "cell_type": "code",
      "source": [
        "\n",
        "#def func(a=10,b):   #SyntaxError: non-default argument follows default argument\n",
        "\n",
        "def func(a,b=10):\n",
        "  print(a,b)\n",
        "\n",
        "func(5)\n",
        "\n",
        "func(5,6) # b will be overridden with 6"
      ],
      "metadata": {
        "id": "nzPpmZS0Pyi0",
        "outputId": "fa7ca7a8-38d8-4b3f-a98c-018f5b2915f5",
        "colab": {
          "base_uri": "https://localhost:8080/"
        }
      },
      "execution_count": null,
      "outputs": [
        {
          "output_type": "stream",
          "name": "stdout",
          "text": [
            "5 10\n",
            "5 6\n"
          ]
        }
      ]
    },
    {
      "cell_type": "code",
      "source": [
        "def student(name,age,m1,m2,m3,college='UVNP'):\n",
        "  print(name,age,m1,m2,m3,'in college',college)\n",
        "\n",
        "student('John',22,m1=90,m2=80,m3=70)\n",
        "student('Ram',21,34,45,67)\n",
        "student('Ram',21,34,45,college='XYZ',m3=56)"
      ],
      "metadata": {
        "id": "YMm0LNmoQNvu",
        "outputId": "5aa69852-2fa6-467e-a107-9a7b5f07703f",
        "colab": {
          "base_uri": "https://localhost:8080/"
        }
      },
      "execution_count": null,
      "outputs": [
        {
          "output_type": "stream",
          "name": "stdout",
          "text": [
            "John 22 90 80 70 in college UVNP\n",
            "Ram 21 34 45 67 in college UVNP\n",
            "Ram 21 34 45 56 in college XYZ\n"
          ]
        }
      ]
    },
    {
      "cell_type": "code",
      "source": [
        "# variable length positional argument def func(*a)\n",
        "\n",
        "def func(*a):\n",
        "  print(a)\n",
        "  print(type(a))\n",
        "\n",
        "func(2,3)\n",
        "func(3,4,5)\n"
      ],
      "metadata": {
        "id": "mjLoPUFYSPXL",
        "outputId": "3f3d7790-643b-4f58-fffd-0d7624c0a18d",
        "colab": {
          "base_uri": "https://localhost:8080/"
        }
      },
      "execution_count": null,
      "outputs": [
        {
          "output_type": "stream",
          "name": "stdout",
          "text": [
            "(2, 3)\n",
            "<class 'tuple'>\n",
            "(3, 4, 5)\n",
            "<class 'tuple'>\n"
          ]
        }
      ]
    },
    {
      "cell_type": "code",
      "source": [
        "def add(*a):\n",
        "  total = 0\n",
        "  for i in a:\n",
        "    total += i\n",
        "  print(total)\n",
        "\n",
        "add(2,3)\n",
        "add(3,4,5)"
      ],
      "metadata": {
        "id": "_OyLA5C8Tf8C",
        "outputId": "4d5d2e99-9aab-4849-e808-8a2495db48c8",
        "colab": {
          "base_uri": "https://localhost:8080/"
        }
      },
      "execution_count": null,
      "outputs": [
        {
          "output_type": "stream",
          "name": "stdout",
          "text": [
            "5\n",
            "12\n"
          ]
        }
      ]
    },
    {
      "cell_type": "code",
      "source": [
        "# variable lenght keyword args\n",
        "\n",
        "def func(**a):    # the arguments will be passed as dictionary\n",
        "  print(a)\n",
        "  print(type(a))\n",
        "  for k,v in a.items():\n",
        "    print(k,v)\n",
        "\n",
        "func(a=2,b=3)\n",
        "func(a=3,b=4,c=5)"
      ],
      "metadata": {
        "id": "VNCu-R2QUASA",
        "outputId": "ca5f6e24-ea10-4490-95b9-22ff94e3cf72",
        "colab": {
          "base_uri": "https://localhost:8080/"
        }
      },
      "execution_count": null,
      "outputs": [
        {
          "output_type": "stream",
          "name": "stdout",
          "text": [
            "{'a': 2, 'b': 3}\n",
            "<class 'dict'>\n",
            "a 2\n",
            "b 3\n",
            "{'a': 3, 'b': 4, 'c': 5}\n",
            "<class 'dict'>\n",
            "a 3\n",
            "b 4\n",
            "c 5\n"
          ]
        }
      ]
    },
    {
      "cell_type": "code",
      "source": [
        "# constructor is a special method that has the name same as the Class name,\n",
        "#which will implicity call the __init__ method\n",
        "\n",
        "class Sample:\n",
        "  def __init__(self):\n",
        "    self.data = 10\n",
        "\n",
        "  def input_data(self):\n",
        "    self.data = input(\"Enter some text \")\n",
        "\n",
        "  def process_data(self):\n",
        "    self.data=self.data.upper()\n",
        "\n",
        "  def output_data(self):\n",
        "    print(self.data)\n",
        "\n",
        "obj1 = Sample()   #obj creation -\n",
        "obj2 = Sample()\n",
        "obj3 = Sample()\n",
        "\n",
        "obj1.input_data()\n",
        "obj1.process_data()\n",
        "obj1.output_data()\n",
        "\n",
        "obj2.input_data()\n",
        "obj2.process_data()\n",
        "obj2.output_data()\n",
        "\n",
        "obj3.input_data()\n",
        "obj3.process_data()\n",
        "obj3.output_data()\n"
      ],
      "metadata": {
        "colab": {
          "base_uri": "https://localhost:8080/"
        },
        "id": "dGV74-QpcuKP",
        "outputId": "da640ea5-95e7-41aa-cecf-9bc977b6e50d"
      },
      "execution_count": null,
      "outputs": [
        {
          "output_type": "stream",
          "name": "stdout",
          "text": [
            "Enter some textNtt\n",
            "NTT\n",
            "Enter some textHello\n",
            "HELLO\n",
            "Enter some text10\n",
            "10\n"
          ]
        }
      ]
    },
    {
      "cell_type": "code",
      "source": [
        "class Calculator:\n",
        "  def __init__(self):     #non-parameterized constructor\n",
        "    self.n1=0\n",
        "    self.n2=0\n",
        "    self.res=0\n",
        "\n",
        "  def input_data(self):\n",
        "    self.n1 = int(input(\"Enter first number \"))\n",
        "    self.n2 = int(input(\"Enter second number \"))\n",
        "\n",
        "  def add(self):\n",
        "    self.res = self.n1 + self.n2\n",
        "    print(self.res)\n",
        "\n",
        "  def sub(self):\n",
        "    self.res = self.n1 - self.n2\n",
        "    print(self.res)\n",
        "\n",
        "  def compare(self,other):\n",
        "    if self.res == other.res:\n",
        "      print(\"True\")\n",
        "    else:\n",
        "      print(\"False\")\n",
        "\n",
        " # while an obj is created for a class, the constructor (__init__)\n",
        " # is implicitly called and the object itselt is passed as an argument\n",
        " # and that is received by the self in the constructor\n",
        "\n",
        "obj1 = Calculator()\n",
        "obj1.input_data()\n",
        "obj1.add()\n",
        "obj1.sub()\n",
        "\n",
        "obj2 = Calculator()\n",
        "obj2.input_data()\n",
        "obj2.add()\n",
        "obj2.sub()\n",
        "\n",
        "# this method invocation will compare the obj1 and obj2\n",
        "# though we pass only the obj2 as the arg\n",
        "# obj1 is implicity passed\n",
        "obj1.compare(obj2)"
      ],
      "metadata": {
        "colab": {
          "base_uri": "https://localhost:8080/"
        },
        "id": "laSOvu63meUA",
        "outputId": "1effd49e-d44b-4726-b244-3cb87baf28a6"
      },
      "execution_count": null,
      "outputs": [
        {
          "output_type": "stream",
          "name": "stdout",
          "text": [
            "Enter first number 10\n",
            "Enter second number 0\n",
            "10\n",
            "10\n",
            "Enter first number 10\n",
            "Enter second number 29\n",
            "39\n",
            "-19\n",
            "False\n"
          ]
        }
      ]
    },
    {
      "cell_type": "code",
      "source": [
        "\n",
        "class Calculator:\n",
        "  def __init__(self,n1,n2):     # parameterized constructor\n",
        "    self.n1 = n1\n",
        "    self.n2 = n2\n",
        "\n",
        "  def add(self):\n",
        "    return self.n1 + self.n2\n",
        "\n",
        "\n",
        "\n",
        "obj1 = Calculator(10,20)\n",
        "print(obj1.add())\n",
        "\n",
        "obj2 = Calculator(10.5,20.6)\n",
        "print(obj2.add())\n"
      ],
      "metadata": {
        "colab": {
          "base_uri": "https://localhost:8080/"
        },
        "id": "ht8OzprRlYxd",
        "outputId": "fc45349f-5358-430e-a66c-bde9afff73d2"
      },
      "execution_count": null,
      "outputs": [
        {
          "output_type": "stream",
          "name": "stdout",
          "text": [
            "30\n",
            "31.1\n"
          ]
        }
      ]
    },
    {
      "cell_type": "code",
      "source": [
        "\n",
        "class Student:\n",
        "  def __init__(self):\n",
        "    self.name = ' '\n",
        "    self.age = 0\n",
        "    self.m1 = 0\n",
        "    self.m2 = 0\n",
        "    self.m3 = 0\n",
        "    self.avg = 0\n",
        "\n",
        "  def get_data(self):\n",
        "    self.name = input(\"Enter name \")\n",
        "    self.age = int(input(\"Enter age \"))\n",
        "    self.m1 = int(input(\"Enter m1 \"))\n",
        "    self.m2 = int(input(\"Enter m2 \"))\n",
        "    self.m3 = int(input(\"Enter m3 \"))\n",
        "\n",
        "  def calc_avg(self):\n",
        "    self.avg = (self.m1+self.m2+self.m3)/3\n",
        "\n",
        "  def display_data(self):\n",
        "    print (\"Stundent name: \",self.name)\n",
        "    print(\"Age: \",self.age)\n",
        "    print(\"Mark-1: \",self.m1)\n",
        "    print(\"Mark-2: \",self.m2)\n",
        "    print(\"Mark-3: \",self.m3)\n",
        "    print(\"Average: \",self.avg)\n",
        "\n",
        "s = Student()\n",
        "s.get_data()\n",
        "s.calc_avg()\n",
        "s.display_data()"
      ],
      "metadata": {
        "colab": {
          "base_uri": "https://localhost:8080/"
        },
        "id": "YO7JE2hEt72p",
        "outputId": "1b5d7b46-adc6-4568-f296-7287a820e64e"
      },
      "execution_count": null,
      "outputs": [
        {
          "output_type": "stream",
          "name": "stdout",
          "text": [
            "Enter name Akshaya\n",
            "Enter age 20\n",
            "Enter m1 90\n",
            "Enter m2 98\n",
            "Enter m3 87\n",
            "Stundent name:  Akshaya\n",
            "Age:  20\n",
            "Mark-1:  90\n",
            "Mark-2:  98\n",
            "Mark-3:  87\n",
            "Average:  91.66666666666667\n"
          ]
        }
      ]
    },
    {
      "cell_type": "code",
      "source": [
        "class Employee:\n",
        "  def __init__(self):\n",
        "    self.name = ' '\n",
        "    self.id = 0\n",
        "    self.dept= ' '\n",
        "    self.base_salary= 0\n",
        "    self.bonus = 20\n",
        "    self.total_salary = 0\n",
        "\n",
        "  def input_data(self,name,id,base_salary,dept):\n",
        "    self.name = name\n",
        "    self.id = id\n",
        "    self.base_salary = base_salary\n",
        "    self.dept = dept\n",
        "\n",
        "  def calc_total_salary(self):\n",
        "    self.total_salary = self.base_salary + self.base_salary * self.bonus / 100\n",
        "\n",
        "  def display_data(self):\n",
        "    print(\"Name: \",self.name)\n",
        "    print(\"ID: \",self.id)\n",
        "    print(\"Department: \",self.dept)\n",
        "    print(\"Base Salary: \",self.base_salary)\n",
        "    print(\"Bonus% : \",self.bonus)\n",
        "    print(\"Total Salary: \",self.total_salary)\n",
        "\n",
        "\n",
        "emp1 = Employee()\n",
        "emp1.input_data('John',101,10000,'IT')\n",
        "emp1.calc_total_salary()\n",
        "emp1.display_data()"
      ],
      "metadata": {
        "colab": {
          "base_uri": "https://localhost:8080/"
        },
        "id": "a59yJfr0am9a",
        "outputId": "8e49137d-4e2a-4422-b99c-6df00249d3e7"
      },
      "execution_count": null,
      "outputs": [
        {
          "output_type": "stream",
          "name": "stdout",
          "text": [
            "Name:  John\n",
            "ID:  101\n",
            "Department:  IT\n",
            "Base Salary:  10000\n",
            "Bonus% :  20\n",
            "Total Salary:  12000.0\n"
          ]
        }
      ]
    },
    {
      "cell_type": "code",
      "source": [
        "# default constructor - when no init method is explicitly given,\n",
        "# a default contructor like below will be invoked when an obj is created\n",
        "\n",
        "def __init__ (self):\n",
        "  pass"
      ],
      "metadata": {
        "id": "BHEKayCY7_Ry"
      },
      "execution_count": null,
      "outputs": []
    },
    {
      "cell_type": "code",
      "source": [
        "class Student:\n",
        "  sudent_count=0\n",
        "  collegename='UPVC'\n",
        "\n",
        "  def __init__(self,name):\n",
        "    self.name = name\n",
        "    self.age = age\n",
        "\n",
        "  @Classmethod\n"
      ],
      "metadata": {
        "id": "bGwYptNBUhmo"
      },
      "execution_count": null,
      "outputs": []
    },
    {
      "cell_type": "code",
      "source": [
        "class Employee:\n",
        "\n",
        "  bonus = 2000\n",
        "\n",
        "  def display(self):\n",
        "    print ('Employee class method')\n",
        "\n",
        "class Manager:\n",
        "\n",
        "  bonus1 = 5000\n",
        "\n",
        "  def show(self):\n",
        "    print ('Manager class method')\n",
        "\n",
        "emp = Employee()\n",
        "man = Manager()\n",
        "\n",
        "emp.display()\n",
        "man.show()\n",
        "\n",
        "\n",
        "man.bonus # error"
      ],
      "metadata": {
        "colab": {
          "base_uri": "https://localhost:8080/",
          "height": 211
        },
        "id": "uCmVP3eDJgsL",
        "outputId": "0fa6e4a0-077c-41f1-dd9c-319463874230"
      },
      "execution_count": null,
      "outputs": [
        {
          "output_type": "stream",
          "name": "stdout",
          "text": [
            "Employee class method\n",
            "Manager class method\n"
          ]
        },
        {
          "output_type": "error",
          "ename": "AttributeError",
          "evalue": "'Manager' object has no attribute 'bonus'",
          "traceback": [
            "\u001b[0;31m---------------------------------------------------------------------------\u001b[0m",
            "\u001b[0;31mAttributeError\u001b[0m                            Traceback (most recent call last)",
            "\u001b[0;32m<ipython-input-1-3651b2051c5d>\u001b[0m in \u001b[0;36m<cell line: 0>\u001b[0;34m()\u001b[0m\n\u001b[1;32m     20\u001b[0m \u001b[0;34m\u001b[0m\u001b[0m\n\u001b[1;32m     21\u001b[0m \u001b[0;34m\u001b[0m\u001b[0m\n\u001b[0;32m---> 22\u001b[0;31m \u001b[0mman\u001b[0m\u001b[0;34m.\u001b[0m\u001b[0mbonus\u001b[0m\u001b[0;34m\u001b[0m\u001b[0;34m\u001b[0m\u001b[0m\n\u001b[0m",
            "\u001b[0;31mAttributeError\u001b[0m: 'Manager' object has no attribute 'bonus'"
          ]
        }
      ]
    },
    {
      "cell_type": "code",
      "source": [
        "#inheritance\n",
        "\n",
        "class Employee:\n",
        "\n",
        "  bonus = 2000\n",
        "\n",
        "  def display(self):\n",
        "    print ('Employee class method')\n",
        "\n",
        "class Manager(Employee):\n",
        "\n",
        "  bonus1 = 5000\n",
        "\n",
        "  def show(self):\n",
        "    print ('Manager class method')\n",
        "\n",
        "emp = Employee()\n",
        "man = Manager()\n",
        "\n",
        "emp.display()\n",
        "man.show()\n",
        "\n",
        "\n",
        "man.bonus"
      ],
      "metadata": {
        "colab": {
          "base_uri": "https://localhost:8080/"
        },
        "id": "ZGECPkI2Klsr",
        "outputId": "e8f2e8aa-928a-4502-cebe-d6fb44121767"
      },
      "execution_count": null,
      "outputs": [
        {
          "output_type": "stream",
          "name": "stdout",
          "text": [
            "Employee class method\n",
            "Manager class method\n"
          ]
        },
        {
          "output_type": "execute_result",
          "data": {
            "text/plain": [
              "2000"
            ]
          },
          "metadata": {},
          "execution_count": 2
        }
      ]
    },
    {
      "cell_type": "code",
      "source": [
        "#constructor in inheritance\n",
        "# if the child doesn't have constructor parent constructor will be called\n",
        "\n",
        "class Father:\n",
        "  def __init__(self):\n",
        "    print('Father constructor')\n",
        "    self.vehicle='Scooter'\n",
        "\n",
        "class Son(Father):\n",
        "  pass\n",
        "\n",
        "s = Son()\n",
        "print(s.__dict__)"
      ],
      "metadata": {
        "colab": {
          "base_uri": "https://localhost:8080/"
        },
        "id": "zUVlFtGtLRRu",
        "outputId": "c579e0ed-3954-4067-9267-1413ade0c1f5"
      },
      "execution_count": null,
      "outputs": [
        {
          "output_type": "stream",
          "name": "stdout",
          "text": [
            "Father constructor\n",
            "{'vehicle': 'Scooter'}\n"
          ]
        }
      ]
    },
    {
      "cell_type": "code",
      "source": [
        "#constructor in inheritance - when the child has a constructor\n",
        "# then the parent constructor will not be called\n",
        "class Father:\n",
        "  def __init__(self):\n",
        "    print('Father constructor')\n",
        "    self.vehicle='Scooter'\n",
        "\n",
        "class Son(Father):\n",
        "  def __init__(self):\n",
        "    print('Son constructor')\n",
        "    self.vehicle='Bike'\n",
        "\n",
        "\n",
        "s = Son()\n",
        "print(s.__dict__)"
      ],
      "metadata": {
        "colab": {
          "base_uri": "https://localhost:8080/"
        },
        "id": "GLN3lZbAMsEQ",
        "outputId": "8479939b-5516-4176-86f6-23af29d7d15b"
      },
      "execution_count": null,
      "outputs": [
        {
          "output_type": "stream",
          "name": "stdout",
          "text": [
            "Son constructor\n",
            "{'vehicle': 'Bike'}\n"
          ]
        }
      ]
    },
    {
      "cell_type": "code",
      "source": [
        "# super method\n",
        "\n",
        "class Father:\n",
        "  def __init__(self):\n",
        "    print('Father constructor')\n",
        "    self.vehicle='Scooter'\n",
        "\n",
        "class Son(Father):\n",
        "  def __init__(self):\n",
        "    super().__init__()\n",
        "    print('Son constructor')\n",
        "    self.age=20\n",
        "\n",
        "\n",
        "s = Son()\n",
        "print(s.__dict__)"
      ],
      "metadata": {
        "colab": {
          "base_uri": "https://localhost:8080/"
        },
        "id": "1ZUIh4GzN-EB",
        "outputId": "9bd87606-78f4-40f2-98b8-3b6fbab93b3e"
      },
      "execution_count": null,
      "outputs": [
        {
          "output_type": "stream",
          "name": "stdout",
          "text": [
            "Father constructor\n",
            "Son constructor\n",
            "{'vehicle': 'Scooter', 'age': 20}\n"
          ]
        }
      ]
    },
    {
      "cell_type": "code",
      "source": [
        "# Parameterized super method\n",
        "\n",
        "class Father:\n",
        "  def __init__(self,vehicle):\n",
        "    print('Father constructor')\n",
        "    self.vehicle=vehicle\n",
        "\n",
        "class Son(Father):\n",
        "  def __init__(self,age,vehicle):\n",
        "    super().__init__(vehicle)\n",
        "    print('Son constructor')\n",
        "    self.age=age\n",
        "\n",
        "\n",
        "s = Son(20,'Scooter')\n",
        "print(s.__dict__)"
      ],
      "metadata": {
        "colab": {
          "base_uri": "https://localhost:8080/"
        },
        "id": "jEqkXubROjAt",
        "outputId": "0a3ba653-faf9-435b-9594-fbfd337e3106"
      },
      "execution_count": null,
      "outputs": [
        {
          "output_type": "stream",
          "name": "stdout",
          "text": [
            "Father constructor\n",
            "Son constructor\n",
            "{'vehicle': 'Scooter', 'age': 20}\n"
          ]
        }
      ]
    },
    {
      "cell_type": "code",
      "source": [
        "# Hybrid inheritacne"
      ],
      "metadata": {
        "id": "B0h4zTF6n_hd"
      },
      "execution_count": null,
      "outputs": []
    },
    {
      "cell_type": "code",
      "source": [
        "# MRO - Method resolution order\n",
        "# depth first left to right approach\n",
        "\n",
        "class A:\n",
        "  pass\n",
        "\n",
        "class B:\n",
        "  pass\n",
        "\n",
        "class C:\n",
        "  pass\n",
        "\n",
        "class X(A,B,C):\n",
        "  pass\n",
        "\n",
        "class Y(B,C):\n",
        "  pass\n",
        "\n",
        "class P(X,Y):\n",
        "  pass\n",
        "\n",
        "print(P.mro())"
      ],
      "metadata": {
        "colab": {
          "base_uri": "https://localhost:8080/"
        },
        "id": "YIyyskhkGcFP",
        "outputId": "9bf2ff14-87a1-4e69-d2d1-d9d49c754c4b"
      },
      "execution_count": null,
      "outputs": [
        {
          "output_type": "stream",
          "name": "stdout",
          "text": [
            "[<class '__main__.P'>, <class '__main__.X'>, <class '__main__.A'>, <class '__main__.Y'>, <class '__main__.B'>, <class '__main__.C'>, <class 'object'>]\n"
          ]
        }
      ]
    },
    {
      "cell_type": "code",
      "source": [
        "# encapsulation - to make the variable or method tied o one class and not\n",
        "# accessible outside it\n",
        "\n",
        "class Finance:\n",
        "  def __init__(self):\n",
        "    self.rev = 10000\n",
        "    self.sales = 10\n",
        "\n",
        "f1 = Finance()\n",
        "print(f1.__dict__)\n",
        "\n",
        "class HR:\n",
        "  def __init__(self):\n",
        "    self.emp = 12\n",
        "    print(f1.rev)\n",
        "    f1.rev = 20000    # the variable of finance is changed in another class\n",
        "    print(f1.__dict__)\n",
        "\n",
        "f2 = Finance()\n",
        "print(f2.__dict__)\n",
        "\n",
        "h1 = HR()\n",
        "print(h1.__dict__)"
      ],
      "metadata": {
        "colab": {
          "base_uri": "https://localhost:8080/"
        },
        "id": "VSNkm1Q2LMkB",
        "outputId": "32ad7097-f5a9-47bf-f1f9-9ed8b2b2c31d"
      },
      "execution_count": null,
      "outputs": [
        {
          "output_type": "stream",
          "name": "stdout",
          "text": [
            "{'rev': 10000, 'sales': 10}\n",
            "{'rev': 10000, 'sales': 10}\n",
            "10000\n",
            "{'rev': 20000, 'sales': 10}\n",
            "{'emp': 12}\n"
          ]
        }
      ]
    },
    {
      "cell_type": "code",
      "source": [
        "# public  - by default\n",
        "# private - use __ before the variable or method\n",
        "# protected - use _ before the variable or method\n",
        "# protected is like private but can be accessed by one level of inheritance\n",
        "\n",
        "\n",
        "# encapsulation -\n",
        "\n",
        "class Finance:\n",
        "  def __init__(self):\n",
        "    self.__rev = 10000    # private\n",
        "    self.sales = 10\n",
        "\n",
        "f1 = Finance()\n",
        "print(f1.__dict__)\n",
        "\n",
        "class HR:\n",
        "  def __init__(self):\n",
        "    self.emp = 12\n",
        "#    print(f1.__rev)   # error since rev is protected\n",
        "    f2._Finance__rev = 3000\n",
        "    print(f2.__dict__)\n",
        "\n",
        "\n",
        "\n",
        "f2 = Finance()\n",
        "print(f2.__dict__)\n",
        "print(f2._Finance__rev)   # to access private variable\n",
        "\n",
        "f2._Finance__rev = 2000\n",
        "print(f2.__dict__)\n",
        "\n",
        "h1 = HR()\n",
        "print(h1.__dict__)\n"
      ],
      "metadata": {
        "colab": {
          "base_uri": "https://localhost:8080/"
        },
        "id": "0-j1thtKNB01",
        "outputId": "c37c2ae0-c9b1-4e86-c744-322ad8698706"
      },
      "execution_count": null,
      "outputs": [
        {
          "output_type": "stream",
          "name": "stdout",
          "text": [
            "{'_Finance__rev': 10000, 'sales': 10}\n",
            "{'_Finance__rev': 10000, 'sales': 10}\n",
            "10000\n",
            "{'_Finance__rev': 2000, 'sales': 10}\n",
            "{'_Finance__rev': 3000, 'sales': 10}\n",
            "{'emp': 12}\n"
          ]
        }
      ]
    },
    {
      "cell_type": "code",
      "source": [
        "class Finance:\n",
        "  def __init__(self):\n",
        "    self.__rev = 10000\n",
        "\n",
        "\n",
        "  def __getdata(self):\n",
        "    return self.__rev\n",
        "\n",
        "f1 = Finance()\n",
        "f1.__getdata()"
      ],
      "metadata": {
        "id": "eiOvbYyNQZ0z"
      },
      "execution_count": null,
      "outputs": []
    },
    {
      "cell_type": "code",
      "source": [
        "# polymorphism\n",
        "\n",
        "class Vehicle:\n",
        "  def __init__(self,name, color,price):\n",
        "    self.name = name\n",
        "    self.color = color\n",
        "    self.price = price\n",
        "\n",
        "  def get_details(self):\n",
        "    print(self.name,self.color,self.price)\n",
        "\n",
        "# method overloading is not supported in Python, meaning when 2 methods with same\n",
        "# names but different no. of args are defined only the last definition of the\n",
        "# method will overwrite any previous ones\n",
        "  def max_speed(self,speed):\n",
        "    print('Max speed is 250')\n",
        "\n",
        "  def max_speed(self):\n",
        "    print('Max speed is 150')\n",
        "\n",
        "\n",
        "\n",
        "  def gear(self):\n",
        "    print('Gear - 4')\n",
        "\n",
        "class Car(Vehicle):\n",
        "  def max_speed(self,speed):\n",
        "    print('Max speed is 200')\n",
        "\n",
        "  def gear(self):\n",
        "    print('Gear - 5')\n",
        "\n",
        "v1 = Vehicle('Car','White',300000)\n",
        "c1 = Car('Car','Red',20000)\n",
        "\n",
        "v1.get_details()   # uses the v1 obj data and executes get_details from Vehicle\n",
        "c1.get_details()   # though Car class doesn't have get_details\n",
        "# it is called from Vehicle class with c1 object\n",
        "v1.max_speed()\n",
        "c1.max_speed(150)\n",
        "v1.gear()\n",
        "c1.gear()"
      ],
      "metadata": {
        "colab": {
          "base_uri": "https://localhost:8080/"
        },
        "id": "bc4_nkVXSDdG",
        "outputId": "ffcc84d4-b790-4b38-a5e1-88c19fab84e3"
      },
      "execution_count": null,
      "outputs": [
        {
          "output_type": "stream",
          "name": "stdout",
          "text": [
            "Car White 300000\n",
            "Car Red 20000\n",
            "Max speed is 150\n",
            "Max speed is 200\n",
            "Gear - 4\n",
            "Gear - 5\n"
          ]
        }
      ]
    },
    {
      "cell_type": "code",
      "source": [
        "# Method overloading - in other programming lang will have same method name but\n",
        "# different number of args. but it is not supported in Python. The last\n",
        "# method with the same name will overwrite the other methods\n",
        "\n",
        "# ploymorphism with functions\n",
        "\n",
        "class BMW:\n",
        "  def fuel_type(self):\n",
        "    print('BMW fuel')\n",
        "\n",
        "  def max_speed(self):\n",
        "    print('BMW max speed')\n",
        "\n",
        "class AUDI:\n",
        "  def fuel_type(self):\n",
        "    print('AUDI fuel')\n",
        "\n",
        "  def max_speed(self):\n",
        "    print('AUDI max speed')\n",
        "\n",
        "def car_details(obj):\n",
        "  obj.fuel_type()\n",
        "  obj.max_speed()\n",
        "\n",
        "b1 = BMW()\n",
        "a1 = AUDI()\n",
        "\n",
        "car_details(b1)\n",
        "car_details(a1)"
      ],
      "metadata": {
        "colab": {
          "base_uri": "https://localhost:8080/"
        },
        "id": "UxLSBSTIYXX5",
        "outputId": "3733d0a1-8dd3-4173-dbaf-b644180b8f3c"
      },
      "execution_count": null,
      "outputs": [
        {
          "output_type": "stream",
          "name": "stdout",
          "text": [
            "BMW fuel\n",
            "BMW max speed\n",
            "AUDI fuel\n",
            "AUDI max speed\n"
          ]
        }
      ]
    },
    {
      "cell_type": "code",
      "source": [
        "#operator overloading\n",
        "n1 = 10\n",
        "n2 = 20\n",
        "n3 = 30\n",
        "print(n1+n2+n3)\n",
        "\n",
        "print(n1.__add__(n2)) # add is a method in int class\n",
        "\n",
        "print(n1.__add__(n2).__add__(n3))\n",
        "print(int.__add__(n1,n2))\n",
        "print((int.__add__(n1,n2)).__add__(n3))\n",
        "\n",
        "print(dir(int))"
      ],
      "metadata": {
        "colab": {
          "base_uri": "https://localhost:8080/"
        },
        "id": "wUjmGogVdaVd",
        "outputId": "fedd4d44-7a0c-4599-80f4-03948fa5a922"
      },
      "execution_count": null,
      "outputs": [
        {
          "output_type": "stream",
          "name": "stdout",
          "text": [
            "60\n",
            "30\n",
            "60\n",
            "30\n",
            "60\n",
            "['__abs__', '__add__', '__and__', '__bool__', '__ceil__', '__class__', '__delattr__', '__dir__', '__divmod__', '__doc__', '__eq__', '__float__', '__floor__', '__floordiv__', '__format__', '__ge__', '__getattribute__', '__getnewargs__', '__getstate__', '__gt__', '__hash__', '__index__', '__init__', '__init_subclass__', '__int__', '__invert__', '__le__', '__lshift__', '__lt__', '__mod__', '__mul__', '__ne__', '__neg__', '__new__', '__or__', '__pos__', '__pow__', '__radd__', '__rand__', '__rdivmod__', '__reduce__', '__reduce_ex__', '__repr__', '__rfloordiv__', '__rlshift__', '__rmod__', '__rmul__', '__ror__', '__round__', '__rpow__', '__rrshift__', '__rshift__', '__rsub__', '__rtruediv__', '__rxor__', '__setattr__', '__sizeof__', '__str__', '__sub__', '__subclasshook__', '__truediv__', '__trunc__', '__xor__', 'as_integer_ratio', 'bit_count', 'bit_length', 'conjugate', 'denominator', 'from_bytes', 'imag', 'numerator', 'real', 'to_bytes']\n"
          ]
        }
      ]
    },
    {
      "cell_type": "code",
      "source": [
        "#operator overloading\n",
        "n1 = 'NTT'\n",
        "n2 = 'DATA'\n",
        "n3 = 'Hello'\n",
        "\n",
        "print(n1+n2+n3)\n",
        "\n",
        "print(n1.__add__(n2)) # add is a method in int class\n",
        "print(n1.__add__(n2).__add__(n3)) # for adding multiple strings\n",
        "\n",
        "\n",
        "print(dir(str))"
      ],
      "metadata": {
        "colab": {
          "base_uri": "https://localhost:8080/"
        },
        "id": "hOYFCAzuer-h",
        "outputId": "fc6f7607-e18a-47b1-fbc7-fed0dedb10cb"
      },
      "execution_count": null,
      "outputs": [
        {
          "output_type": "stream",
          "name": "stdout",
          "text": [
            "NTTDATAHello\n",
            "NTTDATA\n",
            "NTTDATAHello\n",
            "['__add__', '__class__', '__contains__', '__delattr__', '__dir__', '__doc__', '__eq__', '__format__', '__ge__', '__getattribute__', '__getitem__', '__getnewargs__', '__getstate__', '__gt__', '__hash__', '__init__', '__init_subclass__', '__iter__', '__le__', '__len__', '__lt__', '__mod__', '__mul__', '__ne__', '__new__', '__reduce__', '__reduce_ex__', '__repr__', '__rmod__', '__rmul__', '__setattr__', '__sizeof__', '__str__', '__subclasshook__', 'capitalize', 'casefold', 'center', 'count', 'encode', 'endswith', 'expandtabs', 'find', 'format', 'format_map', 'index', 'isalnum', 'isalpha', 'isascii', 'isdecimal', 'isdigit', 'isidentifier', 'islower', 'isnumeric', 'isprintable', 'isspace', 'istitle', 'isupper', 'join', 'ljust', 'lower', 'lstrip', 'maketrans', 'partition', 'removeprefix', 'removesuffix', 'replace', 'rfind', 'rindex', 'rjust', 'rpartition', 'rsplit', 'rstrip', 'split', 'splitlines', 'startswith', 'strip', 'swapcase', 'title', 'translate', 'upper', 'zfill']\n"
          ]
        }
      ]
    },
    {
      "cell_type": "code",
      "source": [
        "n1 = 10\n",
        "n2 = 'NTT'\n",
        "print(n1+n2)\n",
        "\n",
        "print(n1.__add__(n2))\n",
        "print(int.__add__(n1,n2))"
      ],
      "metadata": {
        "id": "jDuGz2b_gFTh"
      },
      "execution_count": null,
      "outputs": []
    },
    {
      "cell_type": "code",
      "source": [
        "class Book:\n",
        "  def __init__(self,title,pages):\n",
        "    self.title = title\n",
        "    self.pages = pages\n",
        "\n",
        "b1 = Book('Python',200)\n",
        "b2 = Book('Java',300)\n",
        "\n",
        "print(b1.pages+b2.pages)\n",
        "\n",
        "print(b1+b2)  # TypeError: unsupported operand type(s) for +: 'Book' and 'Book'"
      ],
      "metadata": {
        "colab": {
          "base_uri": "https://localhost:8080/",
          "height": 193
        },
        "id": "m1-kLePXiBhI",
        "outputId": "82ff410f-1857-4643-8208-bbb63e5b8902"
      },
      "execution_count": null,
      "outputs": [
        {
          "output_type": "stream",
          "name": "stdout",
          "text": [
            "500\n"
          ]
        },
        {
          "output_type": "error",
          "ename": "TypeError",
          "evalue": "unsupported operand type(s) for +: 'Book' and 'Book'",
          "traceback": [
            "\u001b[0;31m---------------------------------------------------------------------------\u001b[0m",
            "\u001b[0;31mTypeError\u001b[0m                                 Traceback (most recent call last)",
            "\u001b[0;32m<ipython-input-22-bbcbace9f262>\u001b[0m in \u001b[0;36m<cell line: 0>\u001b[0;34m()\u001b[0m\n\u001b[1;32m      9\u001b[0m \u001b[0mprint\u001b[0m\u001b[0;34m(\u001b[0m\u001b[0mb1\u001b[0m\u001b[0;34m.\u001b[0m\u001b[0mpages\u001b[0m\u001b[0;34m+\u001b[0m\u001b[0mb2\u001b[0m\u001b[0;34m.\u001b[0m\u001b[0mpages\u001b[0m\u001b[0;34m)\u001b[0m\u001b[0;34m\u001b[0m\u001b[0;34m\u001b[0m\u001b[0m\n\u001b[1;32m     10\u001b[0m \u001b[0;34m\u001b[0m\u001b[0m\n\u001b[0;32m---> 11\u001b[0;31m \u001b[0mprint\u001b[0m\u001b[0;34m(\u001b[0m\u001b[0mb1\u001b[0m\u001b[0;34m+\u001b[0m\u001b[0mb2\u001b[0m\u001b[0;34m)\u001b[0m\u001b[0;34m\u001b[0m\u001b[0;34m\u001b[0m\u001b[0m\n\u001b[0m",
            "\u001b[0;31mTypeError\u001b[0m: unsupported operand type(s) for +: 'Book' and 'Book'"
          ]
        }
      ]
    },
    {
      "cell_type": "code",
      "source": [
        "class Book:\n",
        "  def __init__(self,title,pages):\n",
        "    self.title = title\n",
        "    self.pages = pages\n",
        "\n",
        "  def __add__(self,other):\n",
        "    return self.pages + other.pages\n",
        "\n",
        "b1 = Book('Python',200)\n",
        "b2 = Book('Java',300)\n",
        "\n",
        "print(b1.pages+b2.pages)\n",
        "\n",
        "print(b1+b2)"
      ],
      "metadata": {
        "colab": {
          "base_uri": "https://localhost:8080/"
        },
        "id": "SVzNvDcQii8v",
        "outputId": "0e16f740-d149-404c-b1a7-e6f65c014ba0"
      },
      "execution_count": null,
      "outputs": [
        {
          "output_type": "stream",
          "name": "stdout",
          "text": [
            "500\n",
            "500\n"
          ]
        }
      ]
    },
    {
      "cell_type": "code",
      "source": [],
      "metadata": {
        "colab": {
          "base_uri": "https://localhost:8080/",
          "height": 176
        },
        "id": "WNYxflq-i7Pz",
        "outputId": "ce239323-a1a8-4b5c-8541-7d6d6e6bcee1"
      },
      "execution_count": null,
      "outputs": [
        {
          "output_type": "error",
          "ename": "NameError",
          "evalue": "name 'Object' is not defined",
          "traceback": [
            "\u001b[0;31m---------------------------------------------------------------------------\u001b[0m",
            "\u001b[0;31mNameError\u001b[0m                                 Traceback (most recent call last)",
            "\u001b[0;32m<ipython-input-25-ebefd897cfbc>\u001b[0m in \u001b[0;36m<cell line: 0>\u001b[0;34m()\u001b[0m\n\u001b[0;32m----> 1\u001b[0;31m \u001b[0mb1\u001b[0m \u001b[0;34m=\u001b[0m \u001b[0mObject\u001b[0m\u001b[0;34m(\u001b[0m\u001b[0;34m)\u001b[0m\u001b[0;34m\u001b[0m\u001b[0;34m\u001b[0m\u001b[0m\n\u001b[0m\u001b[1;32m      2\u001b[0m \u001b[0;34m\u001b[0m\u001b[0m\n\u001b[1;32m      3\u001b[0m \u001b[0mprint\u001b[0m\u001b[0;34m(\u001b[0m\u001b[0mdir\u001b[0m\u001b[0;34m(\u001b[0m\u001b[0mb1\u001b[0m\u001b[0;34m)\u001b[0m\u001b[0;34m)\u001b[0m\u001b[0;34m\u001b[0m\u001b[0;34m\u001b[0m\u001b[0m\n",
            "\u001b[0;31mNameError\u001b[0m: name 'Object' is not defined"
          ]
        }
      ]
    },
    {
      "cell_type": "code",
      "source": [
        "#hotel name, rating, price\n",
        "\n",
        "#holtel 1\n",
        "#hotel 2\n",
        "\n",
        "class Hotel:\n",
        "   def __init__(self, name, rating, price):\n",
        "    self.name = name\n",
        "    self.rating = rating\n",
        "    self.price = price\n",
        "\n",
        "   def __gt__ (self,other):\n",
        "    if self.price > other.price:\n",
        "      return True\n",
        "    else:\n",
        "      return False\n",
        "\n",
        "\n",
        "h1 = Hotel('ITC',4.6,25000)\n",
        "h2 = Hotel('Hilton',4.4,15000)\n",
        "print(h1>h2)\n",
        "\n",
        "\n",
        "\n",
        "\n"
      ],
      "metadata": {
        "colab": {
          "base_uri": "https://localhost:8080/"
        },
        "id": "UEu7zZDIjrwe",
        "outputId": "c46c809e-8ddf-4fac-8807-62a52166dc12"
      },
      "execution_count": null,
      "outputs": [
        {
          "output_type": "stream",
          "name": "stdout",
          "text": [
            "True\n"
          ]
        }
      ]
    },
    {
      "cell_type": "code",
      "source": [
        "#can pass varibale length args and variable length keyword args for method overloading\n"
      ],
      "metadata": {
        "id": "EMAFi07WlpJP"
      },
      "execution_count": null,
      "outputs": []
    },
    {
      "cell_type": "code",
      "source": [
        "# Destructor - destorys objects and releases the resources -  __del__()\n",
        "# don't have to call explicitly\n",
        "\n",
        "class Emp:\n",
        "  def __init__(self,name,sal):\n",
        "    self.name = name\n",
        "    self.sal = sal\n",
        "\n",
        "  def display(self):\n",
        "    print(self.name,self.sal)\n",
        "\n",
        "  def __del__(self):\n",
        "    print('My destructor')\n",
        "\n",
        "e =Emp('Ram',200000)\n",
        "e.display()\n",
        "\n",
        "del e   # the del will break the link of e to the object reducing the reference count\n",
        "# then the __del__ will be called clean the resources, but in this case\n",
        "# since we have overwritten the __del__ instead of clearing the resources\n",
        "# it is printing a message\n",
        "\n",
        "e.display() # since the link is broken by del, this will throw error\n"
      ],
      "metadata": {
        "colab": {
          "base_uri": "https://localhost:8080/",
          "height": 211
        },
        "id": "ij0kuYEjlo64",
        "outputId": "8edb5545-b44f-44b5-962c-daa804a4e6c4"
      },
      "execution_count": null,
      "outputs": [
        {
          "output_type": "stream",
          "name": "stdout",
          "text": [
            "Ram 200000\n",
            "My destructor\n"
          ]
        },
        {
          "output_type": "error",
          "ename": "NameError",
          "evalue": "name 'e' is not defined",
          "traceback": [
            "\u001b[0;31m---------------------------------------------------------------------------\u001b[0m",
            "\u001b[0;31mNameError\u001b[0m                                 Traceback (most recent call last)",
            "\u001b[0;32m<ipython-input-37-94943dc8c78b>\u001b[0m in \u001b[0;36m<cell line: 0>\u001b[0;34m()\u001b[0m\n\u001b[1;32m     18\u001b[0m \u001b[0;32mdel\u001b[0m \u001b[0me\u001b[0m \u001b[0;31m# the del will break the link of e to the object,\u001b[0m\u001b[0;34m\u001b[0m\u001b[0;34m\u001b[0m\u001b[0m\n\u001b[1;32m     19\u001b[0m \u001b[0;34m\u001b[0m\u001b[0m\n\u001b[0;32m---> 20\u001b[0;31m \u001b[0me\u001b[0m\u001b[0;34m.\u001b[0m\u001b[0mdisplay\u001b[0m\u001b[0;34m(\u001b[0m\u001b[0;34m)\u001b[0m\u001b[0;34m\u001b[0m\u001b[0;34m\u001b[0m\u001b[0m\n\u001b[0m",
            "\u001b[0;31mNameError\u001b[0m: name 'e' is not defined"
          ]
        }
      ]
    },
    {
      "cell_type": "code",
      "source": [
        "n1 = int(input('Enter first number '))\n",
        "n2 = int(input('Enter second number '))\n",
        "\n",
        "try:\n",
        "  div = n1/n2\n",
        "  print (aaa)\n",
        "\n",
        "except:\n",
        "  print('Some exception is thrown')\n"
      ],
      "metadata": {
        "id": "qKRQTcl7oJnw",
        "outputId": "7fc7ab60-f59b-4365-9a1f-3245925bd8c1",
        "colab": {
          "base_uri": "https://localhost:8080/"
        }
      },
      "execution_count": null,
      "outputs": [
        {
          "output_type": "stream",
          "name": "stdout",
          "text": [
            "Enter first number 10\n",
            "Enter second number 0\n",
            "Some exception is thrown\n"
          ]
        }
      ]
    },
    {
      "cell_type": "code",
      "source": [
        "# try except to catch the excepetion\n",
        "# else will be exceuted when no exception\n",
        "# finally will be executed for sure irrespective of error is there or not\n",
        "\n"
      ],
      "metadata": {
        "id": "ooUrRoMzqVL2"
      },
      "execution_count": null,
      "outputs": []
    },
    {
      "cell_type": "code",
      "source": [
        "n1 = int(input('Enter first number '))\n",
        "n2 = int(input('Enter second number '))\n",
        "\n",
        "try:\n",
        "  div = n1/n2\n",
        "  print (aaa)\n",
        "\n",
        "except ZeroDivisionError as var:\n",
        "  print(var)\n",
        "  print(var.__class__)\n"
      ],
      "metadata": {
        "id": "_5UipSsnqV7K",
        "outputId": "f984e5b3-3108-4103-b358-6d60cf851372",
        "colab": {
          "base_uri": "https://localhost:8080/"
        }
      },
      "execution_count": null,
      "outputs": [
        {
          "output_type": "stream",
          "name": "stdout",
          "text": [
            "Enter first number 10\n",
            "Enter second number 0\n",
            "division by zero\n",
            "<class 'ZeroDivisionError'>\n"
          ]
        }
      ]
    },
    {
      "cell_type": "code",
      "source": [
        "#using sys model\n",
        "import sys\n",
        "\n",
        "n1 = int(input('Enter first number '))\n",
        "n2 = int(input('Enter second number '))\n",
        "\n",
        "try:\n",
        "  div = n1/n2\n",
        "  print (aaa)\n",
        "\n",
        "except:\n",
        "  print(sys.exc_info()[0])  # will be the class name\n",
        "  print(sys.exc_info()[1])  # will be the error message\n"
      ],
      "metadata": {
        "id": "H9yDgSPdrywO",
        "outputId": "0bbe59a4-d5a2-4969-fc41-31b36e001c0e",
        "colab": {
          "base_uri": "https://localhost:8080/"
        }
      },
      "execution_count": null,
      "outputs": [
        {
          "output_type": "stream",
          "name": "stdout",
          "text": [
            "Enter first number 10\n",
            "Enter second number 1\n",
            "<class 'NameError'>\n",
            "name 'aaa' is not defined\n"
          ]
        }
      ]
    },
    {
      "cell_type": "code",
      "source": [
        "#raise keyword\n",
        "\n",
        "try:\n",
        "  age = int(input('Enter you age '))\n",
        "  if age < 0:\n",
        "    raise ValueError\n",
        "  print(\"Your age is \", age)\n",
        "\n",
        "except ValueError:\n",
        "  print(\"invalid age\")\n",
        "\n",
        "print(\"rest of the code\")"
      ],
      "metadata": {
        "id": "NBG7HWsBt_Mj",
        "outputId": "685404b3-d991-4fe7-82b3-45c5b93df04c",
        "colab": {
          "base_uri": "https://localhost:8080/"
        }
      },
      "execution_count": null,
      "outputs": [
        {
          "output_type": "stream",
          "name": "stdout",
          "text": [
            "Enter you age -1\n",
            "invalid age\n",
            "rest of the code\n"
          ]
        }
      ]
    },
    {
      "cell_type": "code",
      "source": [
        "#raise keyword\n",
        "\n",
        "try:\n",
        "  age = int(input('Enter you age '))\n",
        "  if age < 0:\n",
        "    raise ValueError\n",
        "  print(\"Your age is \", age)\n",
        "\n",
        "except ValueError:\n",
        "  print(\"invalid age\")\n",
        "\n",
        "print(\"rest of the code\")"
      ],
      "metadata": {
        "id": "GC83olzluyeb"
      },
      "execution_count": null,
      "outputs": []
    },
    {
      "cell_type": "code",
      "source": [
        "# user defined exception\n",
        "\n",
        "class FiveDivisionError(Exception):\n",
        "  pass\n",
        "\n",
        "\n",
        "n1 = int(input('First number '))\n",
        "n2 = int(input('Second number '))\n",
        "\n",
        "try:\n",
        "  if n2==5:\n",
        "    raise FiveDivisionError('Cannot divide by 5')\n",
        "  d = n1/n2\n",
        "  print (d)\n",
        "\n",
        "\n",
        "except FiveDivisionError as var:\n",
        "  print(var)\n",
        "\n",
        "\n",
        "print(\"Rest of the code\")"
      ],
      "metadata": {
        "id": "pJT27oPJvdFb",
        "outputId": "96eb1c41-1a51-412e-b32c-0bb1ca179b7a",
        "colab": {
          "base_uri": "https://localhost:8080/"
        }
      },
      "execution_count": null,
      "outputs": [
        {
          "output_type": "stream",
          "name": "stdout",
          "text": [
            "First number10\n",
            "Second number5\n",
            "Cannot divide by 5\n",
            "Rest of the code\n"
          ]
        }
      ]
    },
    {
      "cell_type": "code",
      "source": [
        "\n",
        "class AgeError(Exception):\n",
        "  pass\n",
        "\n",
        "age = int(input('Enter you age '))\n",
        "\n",
        "try:\n",
        "  if age < 0:\n",
        "    raise AgeError(\"invalid age\")\n",
        "  print(\"Your age is \", age)\n",
        "\n",
        "except AgeError as var:\n",
        "  print(var)\n",
        "\n",
        "print(\"rest of the code\")"
      ],
      "metadata": {
        "id": "-nWXLMfxxHZZ",
        "outputId": "47982ed9-b34b-439e-f3c0-05bdfcb1a204",
        "colab": {
          "base_uri": "https://localhost:8080/"
        }
      },
      "execution_count": null,
      "outputs": [
        {
          "output_type": "stream",
          "name": "stdout",
          "text": [
            "Enter you age -4\n",
            "invalid age\n",
            "rest of the code\n"
          ]
        }
      ]
    },
    {
      "cell_type": "code",
      "source": [
        "\n",
        "class LowBalance(Exception):\n",
        "  pass\n",
        "\n",
        "class AttemptExcep(Exception):\n",
        "  pass\n",
        "\n",
        "attempt = 1\n",
        "def withdraw():\n",
        "  global attempt\n",
        "  saved_pin = 1234\n",
        "  balance = 30000\n",
        "  pin = int(input('Enter pin '))\n",
        "\n",
        "  if pin == saved_pin:\n",
        "    try:\n",
        "      amt = int(input('Enter amount to withdraw'))\n",
        "      rem_balance = balance - amt\n",
        "      if rem_balance < 1000:\n",
        "        raise LowBalance('Minimum balance will be >1000 after withdrawal')\n",
        "      balance = balance - amt\n",
        "      print('Balance amount', balance)\n",
        "    except LowBalance as var:\n",
        "      print(var)\n",
        "\n",
        "  else:\n",
        "    print('Invalid pin')\n",
        "    ans = input('Enter pin again (y/n)')\n",
        "    if ans == 'y':\n",
        "      attempt = attempt + 1\n",
        "      try:\n",
        "        if attempt == 4:\n",
        "          raise AttemptExcep('Too many attempts, try after 1 hour')\n",
        "\n",
        "      except AttemptExcep as var:\n",
        "        print(var)\n",
        "\n",
        "      else:\n",
        "        withdraw()\n",
        "\n",
        "w = withdraw()"
      ],
      "metadata": {
        "id": "y5satX_Jycs2",
        "outputId": "678159f2-8fc9-4aea-877a-2392f0db41b6",
        "colab": {
          "base_uri": "https://localhost:8080/"
        }
      },
      "execution_count": null,
      "outputs": [
        {
          "output_type": "stream",
          "name": "stdout",
          "text": [
            "Enter pin 1112\n",
            "Invalid pin\n",
            "Enter pin again (y/n)y\n",
            "Enter pin 12314\n",
            "Invalid pin\n",
            "Enter pin again (y/n)y\n",
            "Enter pin 23425\n",
            "Invalid pin\n",
            "Enter pin again (y/n)y\n",
            "Enter pin 3463667\n",
            "Invalid pin\n",
            "Enter pin again (y/n)y\n",
            "Too many attempts, try after 1 hour\n"
          ]
        }
      ]
    }
  ]
}